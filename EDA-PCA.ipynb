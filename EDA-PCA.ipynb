{
 "cells": [
  {
   "cell_type": "code",
   "execution_count": 30,
   "metadata": {},
   "outputs": [],
   "source": [
    "#cleaning\n",
    "import pandas as pd\n",
    "import numpy as np\n",
    "import matplotlib.pyplot as plt\n",
    "import seaborn as sns\n",
    "pd.set_option('display.max_columns', None)"
   ]
  },
  {
   "cell_type": "code",
   "execution_count": 31,
   "metadata": {},
   "outputs": [],
   "source": [
    "df = pd.read_csv('./datasets/backfill_median_data.csv')"
   ]
  },
  {
   "cell_type": "code",
   "execution_count": 32,
   "metadata": {
    "scrolled": true
   },
   "outputs": [
    {
     "data": {
      "text/html": [
       "<div>\n",
       "<style scoped>\n",
       "    .dataframe tbody tr th:only-of-type {\n",
       "        vertical-align: middle;\n",
       "    }\n",
       "\n",
       "    .dataframe tbody tr th {\n",
       "        vertical-align: top;\n",
       "    }\n",
       "\n",
       "    .dataframe thead th {\n",
       "        text-align: right;\n",
       "    }\n",
       "</style>\n",
       "<table border=\"1\" class=\"dataframe\">\n",
       "  <thead>\n",
       "    <tr style=\"text-align: right;\">\n",
       "      <th></th>\n",
       "      <th>pl_name</th>\n",
       "      <th>hostname</th>\n",
       "      <th>disc_facility</th>\n",
       "      <th>pl_orbper</th>\n",
       "      <th>pl_orbsmax</th>\n",
       "      <th>pl_rade</th>\n",
       "      <th>pl_radj</th>\n",
       "      <th>pl_bmasse</th>\n",
       "      <th>pl_bmassj</th>\n",
       "      <th>pl_orbeccen</th>\n",
       "      <th>pl_insol</th>\n",
       "      <th>pl_eqt</th>\n",
       "    </tr>\n",
       "  </thead>\n",
       "  <tbody>\n",
       "    <tr>\n",
       "      <th>0</th>\n",
       "      <td>11 Com b</td>\n",
       "      <td>11 Com</td>\n",
       "      <td>Xinglong Station</td>\n",
       "      <td>326.03000</td>\n",
       "      <td>1.29</td>\n",
       "      <td>12.1</td>\n",
       "      <td>1.08</td>\n",
       "      <td>6165.6000</td>\n",
       "      <td>19.40</td>\n",
       "      <td>0.231</td>\n",
       "      <td>98.09</td>\n",
       "      <td>1700.0</td>\n",
       "    </tr>\n",
       "    <tr>\n",
       "      <th>1</th>\n",
       "      <td>11 UMi b</td>\n",
       "      <td>11 UMi</td>\n",
       "      <td>Thueringer Landessternwarte Tautenburg</td>\n",
       "      <td>516.21997</td>\n",
       "      <td>1.53</td>\n",
       "      <td>12.3</td>\n",
       "      <td>1.09</td>\n",
       "      <td>4684.8142</td>\n",
       "      <td>14.74</td>\n",
       "      <td>0.080</td>\n",
       "      <td>98.09</td>\n",
       "      <td>1700.0</td>\n",
       "    </tr>\n",
       "    <tr>\n",
       "      <th>2</th>\n",
       "      <td>14 And b</td>\n",
       "      <td>14 And</td>\n",
       "      <td>Okayama Astrophysical Observatory</td>\n",
       "      <td>185.84000</td>\n",
       "      <td>0.83</td>\n",
       "      <td>12.9</td>\n",
       "      <td>1.15</td>\n",
       "      <td>1525.5000</td>\n",
       "      <td>4.80</td>\n",
       "      <td>0.000</td>\n",
       "      <td>98.09</td>\n",
       "      <td>1700.0</td>\n",
       "    </tr>\n",
       "    <tr>\n",
       "      <th>3</th>\n",
       "      <td>14 Her b</td>\n",
       "      <td>14 Her</td>\n",
       "      <td>W. M. Keck Observatory</td>\n",
       "      <td>1773.40002</td>\n",
       "      <td>2.93</td>\n",
       "      <td>12.9</td>\n",
       "      <td>1.15</td>\n",
       "      <td>1481.0878</td>\n",
       "      <td>4.66</td>\n",
       "      <td>0.370</td>\n",
       "      <td>98.09</td>\n",
       "      <td>1700.0</td>\n",
       "    </tr>\n",
       "    <tr>\n",
       "      <th>4</th>\n",
       "      <td>16 Cyg B b</td>\n",
       "      <td>16 Cyg B</td>\n",
       "      <td>Multiple Observatories</td>\n",
       "      <td>798.50000</td>\n",
       "      <td>1.66</td>\n",
       "      <td>13.5</td>\n",
       "      <td>1.20</td>\n",
       "      <td>565.7374</td>\n",
       "      <td>1.78</td>\n",
       "      <td>0.680</td>\n",
       "      <td>98.09</td>\n",
       "      <td>1700.0</td>\n",
       "    </tr>\n",
       "  </tbody>\n",
       "</table>\n",
       "</div>"
      ],
      "text/plain": [
       "      pl_name  hostname                           disc_facility   pl_orbper  \\\n",
       "0    11 Com b    11 Com                        Xinglong Station   326.03000   \n",
       "1    11 UMi b    11 UMi  Thueringer Landessternwarte Tautenburg   516.21997   \n",
       "2    14 And b    14 And       Okayama Astrophysical Observatory   185.84000   \n",
       "3    14 Her b    14 Her                  W. M. Keck Observatory  1773.40002   \n",
       "4  16 Cyg B b  16 Cyg B                  Multiple Observatories   798.50000   \n",
       "\n",
       "   pl_orbsmax  pl_rade  pl_radj  pl_bmasse  pl_bmassj  pl_orbeccen  pl_insol  \\\n",
       "0        1.29     12.1     1.08  6165.6000      19.40        0.231     98.09   \n",
       "1        1.53     12.3     1.09  4684.8142      14.74        0.080     98.09   \n",
       "2        0.83     12.9     1.15  1525.5000       4.80        0.000     98.09   \n",
       "3        2.93     12.9     1.15  1481.0878       4.66        0.370     98.09   \n",
       "4        1.66     13.5     1.20   565.7374       1.78        0.680     98.09   \n",
       "\n",
       "   pl_eqt  \n",
       "0  1700.0  \n",
       "1  1700.0  \n",
       "2  1700.0  \n",
       "3  1700.0  \n",
       "4  1700.0  "
      ]
     },
     "execution_count": 32,
     "metadata": {},
     "output_type": "execute_result"
    }
   ],
   "source": [
    "df.head()"
   ]
  },
  {
   "cell_type": "markdown",
   "metadata": {},
   "source": [
    " Dictionary found here:\n",
    " https://exoplanetarchive.ipac.caltech.edu/docs/API_PS_columns.html"
   ]
  },
  {
   "cell_type": "code",
   "execution_count": 33,
   "metadata": {},
   "outputs": [
    {
     "data": {
      "text/plain": [
       "(4364, 12)"
      ]
     },
     "execution_count": 33,
     "metadata": {},
     "output_type": "execute_result"
    }
   ],
   "source": [
    "df.shape"
   ]
  },
  {
   "cell_type": "code",
   "execution_count": 34,
   "metadata": {
    "scrolled": true
   },
   "outputs": [
    {
     "data": {
      "text/html": [
       "<div>\n",
       "<style scoped>\n",
       "    .dataframe tbody tr th:only-of-type {\n",
       "        vertical-align: middle;\n",
       "    }\n",
       "\n",
       "    .dataframe tbody tr th {\n",
       "        vertical-align: top;\n",
       "    }\n",
       "\n",
       "    .dataframe thead th {\n",
       "        text-align: right;\n",
       "    }\n",
       "</style>\n",
       "<table border=\"1\" class=\"dataframe\">\n",
       "  <thead>\n",
       "    <tr style=\"text-align: right;\">\n",
       "      <th></th>\n",
       "      <th>pl_orbper</th>\n",
       "      <th>pl_orbsmax</th>\n",
       "      <th>pl_rade</th>\n",
       "      <th>pl_radj</th>\n",
       "      <th>pl_bmasse</th>\n",
       "      <th>pl_bmassj</th>\n",
       "      <th>pl_orbeccen</th>\n",
       "      <th>pl_insol</th>\n",
       "      <th>pl_eqt</th>\n",
       "    </tr>\n",
       "  </thead>\n",
       "  <tbody>\n",
       "    <tr>\n",
       "      <th>count</th>\n",
       "      <td>4.364000e+03</td>\n",
       "      <td>4364.000000</td>\n",
       "      <td>4364.000000</td>\n",
       "      <td>4364.000000</td>\n",
       "      <td>4364.000000</td>\n",
       "      <td>4364.000000</td>\n",
       "      <td>4364.000000</td>\n",
       "      <td>4364.000000</td>\n",
       "      <td>4364.000000</td>\n",
       "    </tr>\n",
       "    <tr>\n",
       "      <th>mean</th>\n",
       "      <td>2.038742e+03</td>\n",
       "      <td>5.421018</td>\n",
       "      <td>5.675148</td>\n",
       "      <td>0.506446</td>\n",
       "      <td>465.744018</td>\n",
       "      <td>1.465821</td>\n",
       "      <td>0.074452</td>\n",
       "      <td>453.786045</td>\n",
       "      <td>931.816453</td>\n",
       "    </tr>\n",
       "    <tr>\n",
       "      <th>std</th>\n",
       "      <td>1.105449e+05</td>\n",
       "      <td>91.063696</td>\n",
       "      <td>5.393391</td>\n",
       "      <td>0.481241</td>\n",
       "      <td>4160.491764</td>\n",
       "      <td>13.092439</td>\n",
       "      <td>0.145131</td>\n",
       "      <td>1997.498990</td>\n",
       "      <td>476.461326</td>\n",
       "    </tr>\n",
       "    <tr>\n",
       "      <th>min</th>\n",
       "      <td>9.070629e-02</td>\n",
       "      <td>0.004400</td>\n",
       "      <td>0.296000</td>\n",
       "      <td>0.026000</td>\n",
       "      <td>0.020000</td>\n",
       "      <td>0.000060</td>\n",
       "      <td>0.000000</td>\n",
       "      <td>0.060000</td>\n",
       "      <td>50.000000</td>\n",
       "    </tr>\n",
       "    <tr>\n",
       "      <th>25%</th>\n",
       "      <td>4.554625e+00</td>\n",
       "      <td>0.052775</td>\n",
       "      <td>1.750000</td>\n",
       "      <td>0.156000</td>\n",
       "      <td>3.890000</td>\n",
       "      <td>0.012293</td>\n",
       "      <td>0.000000</td>\n",
       "      <td>24.582500</td>\n",
       "      <td>577.000000</td>\n",
       "    </tr>\n",
       "    <tr>\n",
       "      <th>50%</th>\n",
       "      <td>1.225190e+01</td>\n",
       "      <td>0.101150</td>\n",
       "      <td>2.728000</td>\n",
       "      <td>0.243000</td>\n",
       "      <td>8.400000</td>\n",
       "      <td>0.026400</td>\n",
       "      <td>0.000000</td>\n",
       "      <td>98.090000</td>\n",
       "      <td>840.000000</td>\n",
       "    </tr>\n",
       "    <tr>\n",
       "      <th>75%</th>\n",
       "      <td>4.581893e+01</td>\n",
       "      <td>0.260050</td>\n",
       "      <td>11.882000</td>\n",
       "      <td>1.060000</td>\n",
       "      <td>166.378688</td>\n",
       "      <td>0.523500</td>\n",
       "      <td>0.090000</td>\n",
       "      <td>308.632500</td>\n",
       "      <td>1174.500000</td>\n",
       "    </tr>\n",
       "    <tr>\n",
       "      <th>max</th>\n",
       "      <td>7.300000e+06</td>\n",
       "      <td>3500.000000</td>\n",
       "      <td>77.342000</td>\n",
       "      <td>6.900000</td>\n",
       "      <td>239000.000000</td>\n",
       "      <td>752.000000</td>\n",
       "      <td>0.950000</td>\n",
       "      <td>44900.000000</td>\n",
       "      <td>4050.000000</td>\n",
       "    </tr>\n",
       "  </tbody>\n",
       "</table>\n",
       "</div>"
      ],
      "text/plain": [
       "          pl_orbper   pl_orbsmax      pl_rade      pl_radj      pl_bmasse  \\\n",
       "count  4.364000e+03  4364.000000  4364.000000  4364.000000    4364.000000   \n",
       "mean   2.038742e+03     5.421018     5.675148     0.506446     465.744018   \n",
       "std    1.105449e+05    91.063696     5.393391     0.481241    4160.491764   \n",
       "min    9.070629e-02     0.004400     0.296000     0.026000       0.020000   \n",
       "25%    4.554625e+00     0.052775     1.750000     0.156000       3.890000   \n",
       "50%    1.225190e+01     0.101150     2.728000     0.243000       8.400000   \n",
       "75%    4.581893e+01     0.260050    11.882000     1.060000     166.378688   \n",
       "max    7.300000e+06  3500.000000    77.342000     6.900000  239000.000000   \n",
       "\n",
       "         pl_bmassj  pl_orbeccen      pl_insol       pl_eqt  \n",
       "count  4364.000000  4364.000000   4364.000000  4364.000000  \n",
       "mean      1.465821     0.074452    453.786045   931.816453  \n",
       "std      13.092439     0.145131   1997.498990   476.461326  \n",
       "min       0.000060     0.000000      0.060000    50.000000  \n",
       "25%       0.012293     0.000000     24.582500   577.000000  \n",
       "50%       0.026400     0.000000     98.090000   840.000000  \n",
       "75%       0.523500     0.090000    308.632500  1174.500000  \n",
       "max     752.000000     0.950000  44900.000000  4050.000000  "
      ]
     },
     "execution_count": 34,
     "metadata": {},
     "output_type": "execute_result"
    }
   ],
   "source": [
    "df.describe()"
   ]
  },
  {
   "cell_type": "code",
   "execution_count": 35,
   "metadata": {},
   "outputs": [],
   "source": [
    "#columns with crazy outliers:\n",
    "#pl_orbper\n",
    "#pl_rade\n",
    "#pl_radj\n",
    "#pl_bmasse\n",
    "#pl_bmassj\n",
    "#pl_insol\n",
    "#pl_eqt"
   ]
  },
  {
   "cell_type": "code",
   "execution_count": 36,
   "metadata": {},
   "outputs": [
    {
     "data": {
      "text/plain": [
       "pl_name           object\n",
       "hostname          object\n",
       "disc_facility     object\n",
       "pl_orbper        float64\n",
       "pl_orbsmax       float64\n",
       "pl_rade          float64\n",
       "pl_radj          float64\n",
       "pl_bmasse        float64\n",
       "pl_bmassj        float64\n",
       "pl_orbeccen      float64\n",
       "pl_insol         float64\n",
       "pl_eqt           float64\n",
       "dtype: object"
      ]
     },
     "execution_count": 36,
     "metadata": {},
     "output_type": "execute_result"
    }
   ],
   "source": [
    "df.dtypes"
   ]
  },
  {
   "cell_type": "code",
   "execution_count": 37,
   "metadata": {
    "scrolled": true
   },
   "outputs": [
    {
     "data": {
      "text/plain": [
       "pl_name          0\n",
       "hostname         0\n",
       "disc_facility    0\n",
       "pl_orbper        0\n",
       "pl_orbsmax       0\n",
       "pl_rade          0\n",
       "pl_radj          0\n",
       "pl_bmasse        0\n",
       "pl_bmassj        0\n",
       "pl_orbeccen      0\n",
       "pl_insol         0\n",
       "pl_eqt           0\n",
       "dtype: int64"
      ]
     },
     "execution_count": 37,
     "metadata": {},
     "output_type": "execute_result"
    }
   ],
   "source": [
    "df.isna().sum()"
   ]
  },
  {
   "cell_type": "markdown",
   "metadata": {},
   "source": [
    "## EDA"
   ]
  },
  {
   "cell_type": "code",
   "execution_count": 38,
   "metadata": {},
   "outputs": [
    {
     "data": {
      "image/png": "[encoded data removed]",
      "text/plain": [
       "<Figure size 432x288 with 1 Axes>"
      ]
     },
     "metadata": {
      "needs_background": "light"
     },
     "output_type": "display_data"
    }
   ],
   "source": [
    "\n",
    "plt.boxplot(df['pl_orbper']);\n",
    "#dang!  that maximum is a massive outlier.\n",
    "#this is a measure of the length (in earth days) of an orbit of an exoplanet\n",
    "#maybe we drop that planet out"
   ]
  },
  {
   "cell_type": "code",
   "execution_count": 39,
   "metadata": {},
   "outputs": [
    {
     "data": {
      "text/plain": [
       "7300000.0"
      ]
     },
     "execution_count": 39,
     "metadata": {},
     "output_type": "execute_result"
    }
   ],
   "source": [
    "df['pl_orbper'].max()"
   ]
  },
  {
   "cell_type": "code",
   "execution_count": 40,
   "metadata": {},
   "outputs": [
    {
     "data": {
      "text/html": [
       "<div>\n",
       "<style scoped>\n",
       "    .dataframe tbody tr th:only-of-type {\n",
       "        vertical-align: middle;\n",
       "    }\n",
       "\n",
       "    .dataframe tbody tr th {\n",
       "        vertical-align: top;\n",
       "    }\n",
       "\n",
       "    .dataframe thead th {\n",
       "        text-align: right;\n",
       "    }\n",
       "</style>\n",
       "<table border=\"1\" class=\"dataframe\">\n",
       "  <thead>\n",
       "    <tr style=\"text-align: right;\">\n",
       "      <th></th>\n",
       "      <th>pl_name</th>\n",
       "      <th>hostname</th>\n",
       "      <th>disc_facility</th>\n",
       "      <th>pl_orbper</th>\n",
       "      <th>pl_orbsmax</th>\n",
       "      <th>pl_rade</th>\n",
       "      <th>pl_radj</th>\n",
       "      <th>pl_bmasse</th>\n",
       "      <th>pl_bmassj</th>\n",
       "      <th>pl_orbeccen</th>\n",
       "      <th>pl_insol</th>\n",
       "      <th>pl_eqt</th>\n",
       "    </tr>\n",
       "  </thead>\n",
       "  <tbody>\n",
       "    <tr>\n",
       "      <th>3991</th>\n",
       "      <td>Oph 11 b</td>\n",
       "      <td>Oph 11</td>\n",
       "      <td>Gemini Observatory</td>\n",
       "      <td>7300000.0</td>\n",
       "      <td>243.0</td>\n",
       "      <td>12.3</td>\n",
       "      <td>1.1</td>\n",
       "      <td>4449.62</td>\n",
       "      <td>14.0</td>\n",
       "      <td>0.19</td>\n",
       "      <td>1.21</td>\n",
       "      <td>2175.0</td>\n",
       "    </tr>\n",
       "  </tbody>\n",
       "</table>\n",
       "</div>"
      ],
      "text/plain": [
       "       pl_name hostname       disc_facility  pl_orbper  pl_orbsmax  pl_rade  \\\n",
       "3991  Oph 11 b   Oph 11  Gemini Observatory  7300000.0       243.0     12.3   \n",
       "\n",
       "      pl_radj  pl_bmasse  pl_bmassj  pl_orbeccen  pl_insol  pl_eqt  \n",
       "3991      1.1    4449.62       14.0         0.19      1.21  2175.0  "
      ]
     },
     "execution_count": 40,
     "metadata": {},
     "output_type": "execute_result"
    }
   ],
   "source": [
    "df[df['pl_orbper'] == 7300000.0]"
   ]
  },
  {
   "cell_type": "code",
   "execution_count": 41,
   "metadata": {},
   "outputs": [],
   "source": [
    "df = df.drop(index = 3991)"
   ]
  },
  {
   "cell_type": "code",
   "execution_count": 42,
   "metadata": {},
   "outputs": [
    {
     "data": {
      "image/png": "[encoded data removed]",
      "text/plain": [
       "<Figure size 432x288 with 1 Axes>"
      ]
     },
     "metadata": {
      "needs_background": "light"
     },
     "output_type": "display_data"
    }
   ],
   "source": [
    "plt.boxplot(df['pl_rade']);"
   ]
  },
  {
   "cell_type": "code",
   "execution_count": 43,
   "metadata": {},
   "outputs": [
    {
     "data": {
      "text/plain": [
       "77.342"
      ]
     },
     "execution_count": 43,
     "metadata": {},
     "output_type": "execute_result"
    }
   ],
   "source": [
    "df['pl_rade'].max()"
   ]
  },
  {
   "cell_type": "code",
   "execution_count": 44,
   "metadata": {},
   "outputs": [
    {
     "data": {
      "text/html": [
       "<div>\n",
       "<style scoped>\n",
       "    .dataframe tbody tr th:only-of-type {\n",
       "        vertical-align: middle;\n",
       "    }\n",
       "\n",
       "    .dataframe tbody tr th {\n",
       "        vertical-align: top;\n",
       "    }\n",
       "\n",
       "    .dataframe thead th {\n",
       "        text-align: right;\n",
       "    }\n",
       "</style>\n",
       "<table border=\"1\" class=\"dataframe\">\n",
       "  <thead>\n",
       "    <tr style=\"text-align: right;\">\n",
       "      <th></th>\n",
       "      <th>pl_name</th>\n",
       "      <th>hostname</th>\n",
       "      <th>disc_facility</th>\n",
       "      <th>pl_orbper</th>\n",
       "      <th>pl_orbsmax</th>\n",
       "      <th>pl_rade</th>\n",
       "      <th>pl_radj</th>\n",
       "      <th>pl_bmasse</th>\n",
       "      <th>pl_bmassj</th>\n",
       "      <th>pl_orbeccen</th>\n",
       "      <th>pl_insol</th>\n",
       "      <th>pl_eqt</th>\n",
       "    </tr>\n",
       "  </thead>\n",
       "  <tbody>\n",
       "    <tr>\n",
       "      <th>387</th>\n",
       "      <td>HD 100546 b</td>\n",
       "      <td>HD 100546</td>\n",
       "      <td>Paranal Observatory</td>\n",
       "      <td>157.57001</td>\n",
       "      <td>53.0</td>\n",
       "      <td>77.342</td>\n",
       "      <td>6.9</td>\n",
       "      <td>239000.0</td>\n",
       "      <td>752.0</td>\n",
       "      <td>0.09</td>\n",
       "      <td>98.09</td>\n",
       "      <td>840.0</td>\n",
       "    </tr>\n",
       "  </tbody>\n",
       "</table>\n",
       "</div>"
      ],
      "text/plain": [
       "         pl_name   hostname        disc_facility  pl_orbper  pl_orbsmax  \\\n",
       "387  HD 100546 b  HD 100546  Paranal Observatory  157.57001        53.0   \n",
       "\n",
       "     pl_rade  pl_radj  pl_bmasse  pl_bmassj  pl_orbeccen  pl_insol  pl_eqt  \n",
       "387   77.342      6.9   239000.0      752.0         0.09     98.09   840.0  "
      ]
     },
     "execution_count": 44,
     "metadata": {},
     "output_type": "execute_result"
    }
   ],
   "source": [
    "df[df['pl_rade']== 77.342]"
   ]
  },
  {
   "cell_type": "code",
   "execution_count": 45,
   "metadata": {},
   "outputs": [],
   "source": [
    "df = df.drop(index = 387)"
   ]
  },
  {
   "cell_type": "code",
   "execution_count": 46,
   "metadata": {},
   "outputs": [
    {
     "data": {
      "image/png": "[encoded data removed]",
      "text/plain": [
       "<Figure size 432x288 with 1 Axes>"
      ]
     },
     "metadata": {
      "needs_background": "light"
     },
     "output_type": "display_data"
    }
   ],
   "source": [
    "plt.boxplot(df['pl_radj']);"
   ]
  },
  {
   "cell_type": "code",
   "execution_count": 47,
   "metadata": {},
   "outputs": [
    {
     "data": {
      "image/png": "[encoded data removed]",
      "text/plain": [
       "<Figure size 432x288 with 1 Axes>"
      ]
     },
     "metadata": {
      "needs_background": "light"
     },
     "output_type": "display_data"
    }
   ],
   "source": [
    "plt.boxplot(df['pl_bmasse']);"
   ]
  },
  {
   "cell_type": "code",
   "execution_count": 48,
   "metadata": {},
   "outputs": [
    {
     "data": {
      "text/plain": [
       "45700.0"
      ]
     },
     "execution_count": 48,
     "metadata": {},
     "output_type": "execute_result"
    }
   ],
   "source": [
    "df['pl_bmasse'].max()"
   ]
  },
  {
   "cell_type": "code",
   "execution_count": 49,
   "metadata": {},
   "outputs": [
    {
     "data": {
      "text/html": [
       "<div>\n",
       "<style scoped>\n",
       "    .dataframe tbody tr th:only-of-type {\n",
       "        vertical-align: middle;\n",
       "    }\n",
       "\n",
       "    .dataframe tbody tr th {\n",
       "        vertical-align: top;\n",
       "    }\n",
       "\n",
       "    .dataframe thead th {\n",
       "        text-align: right;\n",
       "    }\n",
       "</style>\n",
       "<table border=\"1\" class=\"dataframe\">\n",
       "  <thead>\n",
       "    <tr style=\"text-align: right;\">\n",
       "      <th></th>\n",
       "      <th>pl_name</th>\n",
       "      <th>hostname</th>\n",
       "      <th>disc_facility</th>\n",
       "      <th>pl_orbper</th>\n",
       "      <th>pl_orbsmax</th>\n",
       "      <th>pl_rade</th>\n",
       "      <th>pl_radj</th>\n",
       "      <th>pl_bmasse</th>\n",
       "      <th>pl_bmassj</th>\n",
       "      <th>pl_orbeccen</th>\n",
       "      <th>pl_insol</th>\n",
       "      <th>pl_eqt</th>\n",
       "    </tr>\n",
       "  </thead>\n",
       "  <tbody>\n",
       "    <tr>\n",
       "      <th>1345</th>\n",
       "      <td>K2-52 b</td>\n",
       "      <td>K2-52</td>\n",
       "      <td>K2</td>\n",
       "      <td>3.535055</td>\n",
       "      <td>0.054</td>\n",
       "      <td>18.0</td>\n",
       "      <td>1.606</td>\n",
       "      <td>45700.0</td>\n",
       "      <td>144.0</td>\n",
       "      <td>0.07</td>\n",
       "      <td>1124.0</td>\n",
       "      <td>2004.0</td>\n",
       "    </tr>\n",
       "  </tbody>\n",
       "</table>\n",
       "</div>"
      ],
      "text/plain": [
       "      pl_name hostname disc_facility  pl_orbper  pl_orbsmax  pl_rade  pl_radj  \\\n",
       "1345  K2-52 b    K2-52            K2   3.535055       0.054     18.0    1.606   \n",
       "\n",
       "      pl_bmasse  pl_bmassj  pl_orbeccen  pl_insol  pl_eqt  \n",
       "1345    45700.0      144.0         0.07    1124.0  2004.0  "
      ]
     },
     "execution_count": 49,
     "metadata": {},
     "output_type": "execute_result"
    }
   ],
   "source": [
    "df[df['pl_bmasse'] == 45700]"
   ]
  },
  {
   "cell_type": "code",
   "execution_count": 50,
   "metadata": {},
   "outputs": [],
   "source": [
    "df = df.drop(index = 1345)"
   ]
  },
  {
   "cell_type": "code",
   "execution_count": 51,
   "metadata": {
    "scrolled": true
   },
   "outputs": [
    {
     "data": {
      "image/png": "[encoded data removed]",
      "text/plain": [
       "<Figure size 432x288 with 1 Axes>"
      ]
     },
     "metadata": {
      "needs_background": "light"
     },
     "output_type": "display_data"
    }
   ],
   "source": [
    "plt.boxplot(df['pl_bmassj']);"
   ]
  },
  {
   "cell_type": "code",
   "execution_count": 52,
   "metadata": {},
   "outputs": [
    {
     "data": {
      "image/png": "[encoded data removed]",
      "text/plain": [
       "<Figure size 432x288 with 1 Axes>"
      ]
     },
     "metadata": {
      "needs_background": "light"
     },
     "output_type": "display_data"
    }
   ],
   "source": [
    "plt.boxplot(df['pl_insol']);"
   ]
  },
  {
   "cell_type": "code",
   "execution_count": 53,
   "metadata": {},
   "outputs": [
    {
     "data": {
      "text/plain": [
       "44900.0"
      ]
     },
     "execution_count": 53,
     "metadata": {},
     "output_type": "execute_result"
    }
   ],
   "source": [
    "df['pl_insol'].max()"
   ]
  },
  {
   "cell_type": "code",
   "execution_count": 54,
   "metadata": {},
   "outputs": [
    {
     "data": {
      "text/html": [
       "<div>\n",
       "<style scoped>\n",
       "    .dataframe tbody tr th:only-of-type {\n",
       "        vertical-align: middle;\n",
       "    }\n",
       "\n",
       "    .dataframe tbody tr th {\n",
       "        vertical-align: top;\n",
       "    }\n",
       "\n",
       "    .dataframe thead th {\n",
       "        text-align: right;\n",
       "    }\n",
       "</style>\n",
       "<table border=\"1\" class=\"dataframe\">\n",
       "  <thead>\n",
       "    <tr style=\"text-align: right;\">\n",
       "      <th></th>\n",
       "      <th>pl_name</th>\n",
       "      <th>hostname</th>\n",
       "      <th>disc_facility</th>\n",
       "      <th>pl_orbper</th>\n",
       "      <th>pl_orbsmax</th>\n",
       "      <th>pl_rade</th>\n",
       "      <th>pl_radj</th>\n",
       "      <th>pl_bmasse</th>\n",
       "      <th>pl_bmassj</th>\n",
       "      <th>pl_orbeccen</th>\n",
       "      <th>pl_insol</th>\n",
       "      <th>pl_eqt</th>\n",
       "    </tr>\n",
       "  </thead>\n",
       "  <tbody>\n",
       "    <tr>\n",
       "      <th>1418</th>\n",
       "      <td>KELT-3 b</td>\n",
       "      <td>KELT-3</td>\n",
       "      <td>KELT</td>\n",
       "      <td>2.703390</td>\n",
       "      <td>0.04123</td>\n",
       "      <td>17.486</td>\n",
       "      <td>1.560</td>\n",
       "      <td>616.59020</td>\n",
       "      <td>1.940</td>\n",
       "      <td>0.00</td>\n",
       "      <td>44900.0</td>\n",
       "      <td>1816.0</td>\n",
       "    </tr>\n",
       "    <tr>\n",
       "      <th>1419</th>\n",
       "      <td>KELT-4 A b</td>\n",
       "      <td>KELT-4 A</td>\n",
       "      <td>KELT</td>\n",
       "      <td>2.989593</td>\n",
       "      <td>0.04317</td>\n",
       "      <td>19.044</td>\n",
       "      <td>1.699</td>\n",
       "      <td>286.68266</td>\n",
       "      <td>0.902</td>\n",
       "      <td>0.00</td>\n",
       "      <td>44900.0</td>\n",
       "      <td>1823.0</td>\n",
       "    </tr>\n",
       "    <tr>\n",
       "      <th>1420</th>\n",
       "      <td>KELT-6 b</td>\n",
       "      <td>KELT-6</td>\n",
       "      <td>KELT</td>\n",
       "      <td>7.845700</td>\n",
       "      <td>0.07939</td>\n",
       "      <td>14.572</td>\n",
       "      <td>1.300</td>\n",
       "      <td>165.27160</td>\n",
       "      <td>0.520</td>\n",
       "      <td>0.22</td>\n",
       "      <td>44900.0</td>\n",
       "      <td>1313.0</td>\n",
       "    </tr>\n",
       "    <tr>\n",
       "      <th>1421</th>\n",
       "      <td>KELT-6 c</td>\n",
       "      <td>KELT-6</td>\n",
       "      <td>Multiple Observatories</td>\n",
       "      <td>1276.000000</td>\n",
       "      <td>2.39000</td>\n",
       "      <td>13.000</td>\n",
       "      <td>1.160</td>\n",
       "      <td>1179.14930</td>\n",
       "      <td>3.710</td>\n",
       "      <td>0.21</td>\n",
       "      <td>44900.0</td>\n",
       "      <td>2048.0</td>\n",
       "    </tr>\n",
       "    <tr>\n",
       "      <th>1422</th>\n",
       "      <td>KELT-7 b</td>\n",
       "      <td>KELT-7</td>\n",
       "      <td>KELT</td>\n",
       "      <td>2.734770</td>\n",
       "      <td>0.04415</td>\n",
       "      <td>17.934</td>\n",
       "      <td>1.600</td>\n",
       "      <td>441.78370</td>\n",
       "      <td>1.390</td>\n",
       "      <td>0.00</td>\n",
       "      <td>44900.0</td>\n",
       "      <td>2048.0</td>\n",
       "    </tr>\n",
       "    <tr>\n",
       "      <th>1423</th>\n",
       "      <td>KELT-8 b</td>\n",
       "      <td>KELT-8</td>\n",
       "      <td>KELT</td>\n",
       "      <td>3.244060</td>\n",
       "      <td>0.04550</td>\n",
       "      <td>18.159</td>\n",
       "      <td>1.620</td>\n",
       "      <td>209.76780</td>\n",
       "      <td>0.660</td>\n",
       "      <td>0.04</td>\n",
       "      <td>44900.0</td>\n",
       "      <td>1675.0</td>\n",
       "    </tr>\n",
       "    <tr>\n",
       "      <th>1424</th>\n",
       "      <td>KELT-9 b</td>\n",
       "      <td>KELT-9</td>\n",
       "      <td>KELT-North</td>\n",
       "      <td>1.481124</td>\n",
       "      <td>0.03462</td>\n",
       "      <td>21.196</td>\n",
       "      <td>1.891</td>\n",
       "      <td>915.35040</td>\n",
       "      <td>2.880</td>\n",
       "      <td>0.00</td>\n",
       "      <td>44900.0</td>\n",
       "      <td>4050.0</td>\n",
       "    </tr>\n",
       "  </tbody>\n",
       "</table>\n",
       "</div>"
      ],
      "text/plain": [
       "         pl_name  hostname           disc_facility    pl_orbper  pl_orbsmax  \\\n",
       "1418    KELT-3 b    KELT-3                    KELT     2.703390     0.04123   \n",
       "1419  KELT-4 A b  KELT-4 A                    KELT     2.989593     0.04317   \n",
       "1420    KELT-6 b    KELT-6                    KELT     7.845700     0.07939   \n",
       "1421    KELT-6 c    KELT-6  Multiple Observatories  1276.000000     2.39000   \n",
       "1422    KELT-7 b    KELT-7                    KELT     2.734770     0.04415   \n",
       "1423    KELT-8 b    KELT-8                    KELT     3.244060     0.04550   \n",
       "1424    KELT-9 b    KELT-9              KELT-North     1.481124     0.03462   \n",
       "\n",
       "      pl_rade  pl_radj   pl_bmasse  pl_bmassj  pl_orbeccen  pl_insol  pl_eqt  \n",
       "1418   17.486    1.560   616.59020      1.940         0.00   44900.0  1816.0  \n",
       "1419   19.044    1.699   286.68266      0.902         0.00   44900.0  1823.0  \n",
       "1420   14.572    1.300   165.27160      0.520         0.22   44900.0  1313.0  \n",
       "1421   13.000    1.160  1179.14930      3.710         0.21   44900.0  2048.0  \n",
       "1422   17.934    1.600   441.78370      1.390         0.00   44900.0  2048.0  \n",
       "1423   18.159    1.620   209.76780      0.660         0.04   44900.0  1675.0  \n",
       "1424   21.196    1.891   915.35040      2.880         0.00   44900.0  4050.0  "
      ]
     },
     "execution_count": 54,
     "metadata": {},
     "output_type": "execute_result"
    }
   ],
   "source": [
    "df[df['pl_insol'] == 44900.0]"
   ]
  },
  {
   "cell_type": "code",
   "execution_count": 55,
   "metadata": {},
   "outputs": [],
   "source": [
    "#going to remove these:  I suspect these values are backfilled from KELT-9 b, which orbits an unusually hot star.\n",
    "df = df.drop(index = df[df['pl_insol'] == 44900.0].index)"
   ]
  },
  {
   "cell_type": "code",
   "execution_count": 56,
   "metadata": {},
   "outputs": [
    {
     "data": {
      "image/png": "[encoded data removed]",
      "text/plain": [
       "<Figure size 432x288 with 1 Axes>"
      ]
     },
     "metadata": {
      "needs_background": "light"
     },
     "output_type": "display_data"
    }
   ],
   "source": [
    "plt.boxplot(df['pl_eqt']);"
   ]
  },
  {
   "cell_type": "code",
   "execution_count": 57,
   "metadata": {},
   "outputs": [],
   "source": [
    "df.to_csv('./datasets/clean_planetary_data.csv')"
   ]
  },
  {
   "cell_type": "code",
   "execution_count": 58,
   "metadata": {},
   "outputs": [
    {
     "data": {
      "text/plain": [
       "Index(['pl_name', 'hostname', 'disc_facility', 'pl_orbper', 'pl_orbsmax',\n",
       "       'pl_rade', 'pl_radj', 'pl_bmasse', 'pl_bmassj', 'pl_orbeccen',\n",
       "       'pl_insol', 'pl_eqt'],\n",
       "      dtype='object')"
      ]
     },
     "execution_count": 58,
     "metadata": {},
     "output_type": "execute_result"
    }
   ],
   "source": [
    "df.columns"
   ]
  }
 ],
 "metadata": {
  "kernelspec": {
   "display_name": "Python 3",
   "language": "python",
   "name": "python3"
  },
  "language_info": {
   "codemirror_mode": {
    "name": "ipython",
    "version": 3
   },
   "file_extension": ".py",
   "mimetype": "text/x-python",
   "name": "python",
   "nbconvert_exporter": "python",
   "pygments_lexer": "ipython3",
   "version": "3.8.5"
  }
 },
 "nbformat": 4,
 "nbformat_minor": 4
}
