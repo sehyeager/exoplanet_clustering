{
 "cells": [
  {
   "cell_type": "code",
   "execution_count": 1,
   "metadata": {},
   "outputs": [],
   "source": [
    "#cleaning\n",
    "import pandas as pd\n",
    "import numpy as np\n",
    "import matplotlib.pyplot as plt\n",
    "import seaborn as sns"
   ]
  },
  {
   "cell_type": "code",
   "execution_count": 2,
   "metadata": {},
   "outputs": [],
   "source": [
    "df = pd.read_csv('backfill_mean_data.csv')"
   ]
  },
  {
   "cell_type": "code",
   "execution_count": 3,
   "metadata": {
    "scrolled": true
   },
   "outputs": [
    {
     "data": {
      "text/html": [
       "<div>\n",
       "<style scoped>\n",
       "    .dataframe tbody tr th:only-of-type {\n",
       "        vertical-align: middle;\n",
       "    }\n",
       "\n",
       "    .dataframe tbody tr th {\n",
       "        vertical-align: top;\n",
       "    }\n",
       "\n",
       "    .dataframe thead th {\n",
       "        text-align: right;\n",
       "    }\n",
       "</style>\n",
       "<table border=\"1\" class=\"dataframe\">\n",
       "  <thead>\n",
       "    <tr style=\"text-align: right;\">\n",
       "      <th></th>\n",
       "      <th>sy_snum</th>\n",
       "      <th>sy_pnum</th>\n",
       "      <th>pl_orbper</th>\n",
       "      <th>pl_orbpererr1</th>\n",
       "      <th>pl_orbpererr2</th>\n",
       "      <th>pl_orbperlim</th>\n",
       "      <th>pl_orbsmax</th>\n",
       "      <th>pl_orbsmaxlim</th>\n",
       "      <th>pl_rade</th>\n",
       "      <th>pl_radeerr1</th>\n",
       "      <th>...</th>\n",
       "      <th>sy_disterr2</th>\n",
       "      <th>sy_vmag</th>\n",
       "      <th>sy_vmagerr1</th>\n",
       "      <th>sy_vmagerr2</th>\n",
       "      <th>sy_kmag</th>\n",
       "      <th>sy_kmagerr1</th>\n",
       "      <th>sy_kmagerr2</th>\n",
       "      <th>sy_gaiamag</th>\n",
       "      <th>sy_gaiamagerr1</th>\n",
       "      <th>sy_gaiamagerr2</th>\n",
       "    </tr>\n",
       "  </thead>\n",
       "  <tbody>\n",
       "    <tr>\n",
       "      <th>0</th>\n",
       "      <td>2</td>\n",
       "      <td>1</td>\n",
       "      <td>326.03000</td>\n",
       "      <td>0.32</td>\n",
       "      <td>-0.32</td>\n",
       "      <td>0.0</td>\n",
       "      <td>1.29</td>\n",
       "      <td>0.0</td>\n",
       "      <td>12.1</td>\n",
       "      <td>0.336</td>\n",
       "      <td>...</td>\n",
       "      <td>-1.9238</td>\n",
       "      <td>4.72307</td>\n",
       "      <td>0.023</td>\n",
       "      <td>-0.023</td>\n",
       "      <td>2.282</td>\n",
       "      <td>0.346</td>\n",
       "      <td>-0.346</td>\n",
       "      <td>4.44038</td>\n",
       "      <td>0.003848</td>\n",
       "      <td>-0.003848</td>\n",
       "    </tr>\n",
       "    <tr>\n",
       "      <th>1</th>\n",
       "      <td>1</td>\n",
       "      <td>1</td>\n",
       "      <td>516.21997</td>\n",
       "      <td>3.20</td>\n",
       "      <td>-3.20</td>\n",
       "      <td>0.0</td>\n",
       "      <td>1.53</td>\n",
       "      <td>0.0</td>\n",
       "      <td>12.3</td>\n",
       "      <td>0.336</td>\n",
       "      <td>...</td>\n",
       "      <td>-1.9765</td>\n",
       "      <td>5.01300</td>\n",
       "      <td>0.005</td>\n",
       "      <td>-0.005</td>\n",
       "      <td>1.939</td>\n",
       "      <td>0.270</td>\n",
       "      <td>-0.270</td>\n",
       "      <td>4.56216</td>\n",
       "      <td>0.003903</td>\n",
       "      <td>-0.003903</td>\n",
       "    </tr>\n",
       "    <tr>\n",
       "      <th>2</th>\n",
       "      <td>1</td>\n",
       "      <td>1</td>\n",
       "      <td>185.84000</td>\n",
       "      <td>0.23</td>\n",
       "      <td>-0.23</td>\n",
       "      <td>0.0</td>\n",
       "      <td>0.83</td>\n",
       "      <td>0.0</td>\n",
       "      <td>12.9</td>\n",
       "      <td>0.336</td>\n",
       "      <td>...</td>\n",
       "      <td>-0.7140</td>\n",
       "      <td>5.23133</td>\n",
       "      <td>0.023</td>\n",
       "      <td>-0.023</td>\n",
       "      <td>2.331</td>\n",
       "      <td>0.240</td>\n",
       "      <td>-0.240</td>\n",
       "      <td>4.91781</td>\n",
       "      <td>0.002826</td>\n",
       "      <td>-0.002826</td>\n",
       "    </tr>\n",
       "    <tr>\n",
       "      <th>3</th>\n",
       "      <td>1</td>\n",
       "      <td>1</td>\n",
       "      <td>1773.40002</td>\n",
       "      <td>2.50</td>\n",
       "      <td>-2.50</td>\n",
       "      <td>0.0</td>\n",
       "      <td>2.93</td>\n",
       "      <td>0.0</td>\n",
       "      <td>12.9</td>\n",
       "      <td>0.336</td>\n",
       "      <td>...</td>\n",
       "      <td>-0.0073</td>\n",
       "      <td>6.61935</td>\n",
       "      <td>0.023</td>\n",
       "      <td>-0.023</td>\n",
       "      <td>4.714</td>\n",
       "      <td>0.016</td>\n",
       "      <td>-0.016</td>\n",
       "      <td>6.38300</td>\n",
       "      <td>0.000351</td>\n",
       "      <td>-0.000351</td>\n",
       "    </tr>\n",
       "    <tr>\n",
       "      <th>4</th>\n",
       "      <td>3</td>\n",
       "      <td>1</td>\n",
       "      <td>798.50000</td>\n",
       "      <td>1.00</td>\n",
       "      <td>-1.00</td>\n",
       "      <td>0.0</td>\n",
       "      <td>1.66</td>\n",
       "      <td>0.0</td>\n",
       "      <td>13.5</td>\n",
       "      <td>0.336</td>\n",
       "      <td>...</td>\n",
       "      <td>-0.0111</td>\n",
       "      <td>6.21500</td>\n",
       "      <td>0.016</td>\n",
       "      <td>-0.016</td>\n",
       "      <td>4.651</td>\n",
       "      <td>0.016</td>\n",
       "      <td>-0.016</td>\n",
       "      <td>6.06428</td>\n",
       "      <td>0.000603</td>\n",
       "      <td>-0.000603</td>\n",
       "    </tr>\n",
       "  </tbody>\n",
       "</table>\n",
       "<p>5 rows × 63 columns</p>\n",
       "</div>"
      ],
      "text/plain": [
       "   sy_snum  sy_pnum   pl_orbper  pl_orbpererr1  pl_orbpererr2  pl_orbperlim  \\\n",
       "0        2        1   326.03000           0.32          -0.32           0.0   \n",
       "1        1        1   516.21997           3.20          -3.20           0.0   \n",
       "2        1        1   185.84000           0.23          -0.23           0.0   \n",
       "3        1        1  1773.40002           2.50          -2.50           0.0   \n",
       "4        3        1   798.50000           1.00          -1.00           0.0   \n",
       "\n",
       "   pl_orbsmax  pl_orbsmaxlim  pl_rade  pl_radeerr1  ...  sy_disterr2  sy_vmag  \\\n",
       "0        1.29            0.0     12.1        0.336  ...      -1.9238  4.72307   \n",
       "1        1.53            0.0     12.3        0.336  ...      -1.9765  5.01300   \n",
       "2        0.83            0.0     12.9        0.336  ...      -0.7140  5.23133   \n",
       "3        2.93            0.0     12.9        0.336  ...      -0.0073  6.61935   \n",
       "4        1.66            0.0     13.5        0.336  ...      -0.0111  6.21500   \n",
       "\n",
       "   sy_vmagerr1  sy_vmagerr2  sy_kmag  sy_kmagerr1  sy_kmagerr2  sy_gaiamag  \\\n",
       "0        0.023       -0.023    2.282        0.346       -0.346     4.44038   \n",
       "1        0.005       -0.005    1.939        0.270       -0.270     4.56216   \n",
       "2        0.023       -0.023    2.331        0.240       -0.240     4.91781   \n",
       "3        0.023       -0.023    4.714        0.016       -0.016     6.38300   \n",
       "4        0.016       -0.016    4.651        0.016       -0.016     6.06428   \n",
       "\n",
       "   sy_gaiamagerr1  sy_gaiamagerr2  \n",
       "0        0.003848       -0.003848  \n",
       "1        0.003903       -0.003903  \n",
       "2        0.002826       -0.002826  \n",
       "3        0.000351       -0.000351  \n",
       "4        0.000603       -0.000603  \n",
       "\n",
       "[5 rows x 63 columns]"
      ]
     },
     "execution_count": 3,
     "metadata": {},
     "output_type": "execute_result"
    }
   ],
   "source": [
    "df.head()"
   ]
  },
  {
   "cell_type": "markdown",
   "metadata": {},
   "source": [
    " Dictionary found here:\n",
    " https://exoplanetarchive.ipac.caltech.edu/docs/API_PS_columns.html"
   ]
  },
  {
   "cell_type": "code",
   "execution_count": 4,
   "metadata": {},
   "outputs": [
    {
     "data": {
      "text/plain": [
       "(4352, 73)"
      ]
     },
     "execution_count": 4,
     "metadata": {},
     "output_type": "execute_result"
    }
   ],
   "source": [
    "df.shape"
   ]
  },
  {
   "cell_type": "code",
   "execution_count": 4,
   "metadata": {},
   "outputs": [
    {
     "data": {
      "text/html": [
       "<div>\n",
       "<style scoped>\n",
       "    .dataframe tbody tr th:only-of-type {\n",
       "        vertical-align: middle;\n",
       "    }\n",
       "\n",
       "    .dataframe tbody tr th {\n",
       "        vertical-align: top;\n",
       "    }\n",
       "\n",
       "    .dataframe thead th {\n",
       "        text-align: right;\n",
       "    }\n",
       "</style>\n",
       "<table border=\"1\" class=\"dataframe\">\n",
       "  <thead>\n",
       "    <tr style=\"text-align: right;\">\n",
       "      <th></th>\n",
       "      <th>sy_snum</th>\n",
       "      <th>sy_pnum</th>\n",
       "      <th>pl_orbper</th>\n",
       "      <th>pl_orbpererr1</th>\n",
       "      <th>pl_orbpererr2</th>\n",
       "      <th>pl_orbperlim</th>\n",
       "      <th>pl_orbsmax</th>\n",
       "      <th>pl_orbsmaxlim</th>\n",
       "      <th>pl_rade</th>\n",
       "      <th>pl_radeerr1</th>\n",
       "      <th>...</th>\n",
       "      <th>sy_disterr2</th>\n",
       "      <th>sy_vmag</th>\n",
       "      <th>sy_vmagerr1</th>\n",
       "      <th>sy_vmagerr2</th>\n",
       "      <th>sy_kmag</th>\n",
       "      <th>sy_kmagerr1</th>\n",
       "      <th>sy_kmagerr2</th>\n",
       "      <th>sy_gaiamag</th>\n",
       "      <th>sy_gaiamagerr1</th>\n",
       "      <th>sy_gaiamagerr2</th>\n",
       "    </tr>\n",
       "  </thead>\n",
       "  <tbody>\n",
       "    <tr>\n",
       "      <th>count</th>\n",
       "      <td>4352.000000</td>\n",
       "      <td>4352.000000</td>\n",
       "      <td>4.352000e+03</td>\n",
       "      <td>4.352000e+03</td>\n",
       "      <td>4.352000e+03</td>\n",
       "      <td>4352.000000</td>\n",
       "      <td>4352.000000</td>\n",
       "      <td>4352.000000</td>\n",
       "      <td>4352.000000</td>\n",
       "      <td>4352.000000</td>\n",
       "      <td>...</td>\n",
       "      <td>4352.000000</td>\n",
       "      <td>4352.000000</td>\n",
       "      <td>4352.000000</td>\n",
       "      <td>4352.000000</td>\n",
       "      <td>4352.000000</td>\n",
       "      <td>4352.000000</td>\n",
       "      <td>4352.000000</td>\n",
       "      <td>4352.000000</td>\n",
       "      <td>4352.000000</td>\n",
       "      <td>4352.000000</td>\n",
       "    </tr>\n",
       "    <tr>\n",
       "      <th>mean</th>\n",
       "      <td>1.112822</td>\n",
       "      <td>1.789982</td>\n",
       "      <td>2.044396e+03</td>\n",
       "      <td>9.042651e+02</td>\n",
       "      <td>-8.737562e+02</td>\n",
       "      <td>-0.000460</td>\n",
       "      <td>5.435870</td>\n",
       "      <td>-0.000460</td>\n",
       "      <td>5.671085</td>\n",
       "      <td>0.639200</td>\n",
       "      <td>...</td>\n",
       "      <td>-39.617438</td>\n",
       "      <td>13.051564</td>\n",
       "      <td>0.124781</td>\n",
       "      <td>-0.161022</td>\n",
       "      <td>10.825378</td>\n",
       "      <td>0.064802</td>\n",
       "      <td>-0.066220</td>\n",
       "      <td>12.512417</td>\n",
       "      <td>0.000677</td>\n",
       "      <td>-0.000677</td>\n",
       "    </tr>\n",
       "    <tr>\n",
       "      <th>std</th>\n",
       "      <td>0.356702</td>\n",
       "      <td>1.170389</td>\n",
       "      <td>1.106972e+05</td>\n",
       "      <td>5.533101e+04</td>\n",
       "      <td>5.532917e+04</td>\n",
       "      <td>0.037132</td>\n",
       "      <td>91.188747</td>\n",
       "      <td>0.021435</td>\n",
       "      <td>5.390968</td>\n",
       "      <td>1.728031</td>\n",
       "      <td>...</td>\n",
       "      <td>178.619760</td>\n",
       "      <td>3.836161</td>\n",
       "      <td>0.236038</td>\n",
       "      <td>0.755580</td>\n",
       "      <td>3.252036</td>\n",
       "      <td>0.424331</td>\n",
       "      <td>0.465661</td>\n",
       "      <td>2.974345</td>\n",
       "      <td>0.002036</td>\n",
       "      <td>0.002036</td>\n",
       "    </tr>\n",
       "    <tr>\n",
       "      <th>min</th>\n",
       "      <td>1.000000</td>\n",
       "      <td>1.000000</td>\n",
       "      <td>9.070629e-02</td>\n",
       "      <td>0.000000e+00</td>\n",
       "      <td>-3.650000e+06</td>\n",
       "      <td>-1.000000</td>\n",
       "      <td>0.004400</td>\n",
       "      <td>-1.000000</td>\n",
       "      <td>0.296000</td>\n",
       "      <td>0.000000</td>\n",
       "      <td>...</td>\n",
       "      <td>-2400.000000</td>\n",
       "      <td>0.872000</td>\n",
       "      <td>0.000000</td>\n",
       "      <td>-11.920000</td>\n",
       "      <td>-3.044000</td>\n",
       "      <td>0.011000</td>\n",
       "      <td>-9.995000</td>\n",
       "      <td>2.926270</td>\n",
       "      <td>0.000122</td>\n",
       "      <td>-0.063232</td>\n",
       "    </tr>\n",
       "    <tr>\n",
       "      <th>25%</th>\n",
       "      <td>1.000000</td>\n",
       "      <td>1.000000</td>\n",
       "      <td>4.550021e+00</td>\n",
       "      <td>1.600000e-05</td>\n",
       "      <td>-1.600000e-03</td>\n",
       "      <td>0.000000</td>\n",
       "      <td>0.052700</td>\n",
       "      <td>0.000000</td>\n",
       "      <td>1.748750</td>\n",
       "      <td>0.140000</td>\n",
       "      <td>...</td>\n",
       "      <td>-18.803500</td>\n",
       "      <td>11.420500</td>\n",
       "      <td>0.030000</td>\n",
       "      <td>-0.126000</td>\n",
       "      <td>9.240000</td>\n",
       "      <td>0.020000</td>\n",
       "      <td>-0.033000</td>\n",
       "      <td>10.958600</td>\n",
       "      <td>0.000258</td>\n",
       "      <td>-0.000537</td>\n",
       "    </tr>\n",
       "    <tr>\n",
       "      <th>50%</th>\n",
       "      <td>1.000000</td>\n",
       "      <td>1.000000</td>\n",
       "      <td>1.225383e+01</td>\n",
       "      <td>1.009500e-04</td>\n",
       "      <td>-1.001000e-04</td>\n",
       "      <td>0.000000</td>\n",
       "      <td>0.101200</td>\n",
       "      <td>0.000000</td>\n",
       "      <td>2.720000</td>\n",
       "      <td>0.290500</td>\n",
       "      <td>...</td>\n",
       "      <td>-5.822500</td>\n",
       "      <td>13.695500</td>\n",
       "      <td>0.080000</td>\n",
       "      <td>-0.080000</td>\n",
       "      <td>11.737000</td>\n",
       "      <td>0.024000</td>\n",
       "      <td>-0.024000</td>\n",
       "      <td>13.428400</td>\n",
       "      <td>0.000362</td>\n",
       "      <td>-0.000362</td>\n",
       "    </tr>\n",
       "    <tr>\n",
       "      <th>75%</th>\n",
       "      <td>1.000000</td>\n",
       "      <td>2.000000</td>\n",
       "      <td>4.647695e+01</td>\n",
       "      <td>1.600000e-03</td>\n",
       "      <td>-1.600000e-05</td>\n",
       "      <td>0.000000</td>\n",
       "      <td>0.262000</td>\n",
       "      <td>0.000000</td>\n",
       "      <td>11.837250</td>\n",
       "      <td>0.610000</td>\n",
       "      <td>...</td>\n",
       "      <td>-0.834750</td>\n",
       "      <td>15.125500</td>\n",
       "      <td>0.126000</td>\n",
       "      <td>-0.030000</td>\n",
       "      <td>12.961750</td>\n",
       "      <td>0.033000</td>\n",
       "      <td>-0.020000</td>\n",
       "      <td>14.814325</td>\n",
       "      <td>0.000537</td>\n",
       "      <td>-0.000258</td>\n",
       "    </tr>\n",
       "    <tr>\n",
       "      <th>max</th>\n",
       "      <td>4.000000</td>\n",
       "      <td>8.000000</td>\n",
       "      <td>7.300000e+06</td>\n",
       "      <td>3.650000e+06</td>\n",
       "      <td>0.000000e+00</td>\n",
       "      <td>1.000000</td>\n",
       "      <td>3500.000000</td>\n",
       "      <td>0.000000</td>\n",
       "      <td>77.342000</td>\n",
       "      <td>68.910000</td>\n",
       "      <td>...</td>\n",
       "      <td>-0.000350</td>\n",
       "      <td>44.610000</td>\n",
       "      <td>2.820000</td>\n",
       "      <td>-0.001000</td>\n",
       "      <td>33.110000</td>\n",
       "      <td>9.995000</td>\n",
       "      <td>-0.011000</td>\n",
       "      <td>20.186100</td>\n",
       "      <td>0.063232</td>\n",
       "      <td>-0.000122</td>\n",
       "    </tr>\n",
       "  </tbody>\n",
       "</table>\n",
       "<p>8 rows × 63 columns</p>\n",
       "</div>"
      ],
      "text/plain": [
       "           sy_snum      sy_pnum     pl_orbper  pl_orbpererr1  pl_orbpererr2  \\\n",
       "count  4352.000000  4352.000000  4.352000e+03   4.352000e+03   4.352000e+03   \n",
       "mean      1.112822     1.789982  2.044396e+03   9.042651e+02  -8.737562e+02   \n",
       "std       0.356702     1.170389  1.106972e+05   5.533101e+04   5.532917e+04   \n",
       "min       1.000000     1.000000  9.070629e-02   0.000000e+00  -3.650000e+06   \n",
       "25%       1.000000     1.000000  4.550021e+00   1.600000e-05  -1.600000e-03   \n",
       "50%       1.000000     1.000000  1.225383e+01   1.009500e-04  -1.001000e-04   \n",
       "75%       1.000000     2.000000  4.647695e+01   1.600000e-03  -1.600000e-05   \n",
       "max       4.000000     8.000000  7.300000e+06   3.650000e+06   0.000000e+00   \n",
       "\n",
       "       pl_orbperlim   pl_orbsmax  pl_orbsmaxlim      pl_rade  pl_radeerr1  \\\n",
       "count   4352.000000  4352.000000    4352.000000  4352.000000  4352.000000   \n",
       "mean      -0.000460     5.435870      -0.000460     5.671085     0.639200   \n",
       "std        0.037132    91.188747       0.021435     5.390968     1.728031   \n",
       "min       -1.000000     0.004400      -1.000000     0.296000     0.000000   \n",
       "25%        0.000000     0.052700       0.000000     1.748750     0.140000   \n",
       "50%        0.000000     0.101200       0.000000     2.720000     0.290500   \n",
       "75%        0.000000     0.262000       0.000000    11.837250     0.610000   \n",
       "max        1.000000  3500.000000       0.000000    77.342000    68.910000   \n",
       "\n",
       "       ...  sy_disterr2      sy_vmag  sy_vmagerr1  sy_vmagerr2      sy_kmag  \\\n",
       "count  ...  4352.000000  4352.000000  4352.000000  4352.000000  4352.000000   \n",
       "mean   ...   -39.617438    13.051564     0.124781    -0.161022    10.825378   \n",
       "std    ...   178.619760     3.836161     0.236038     0.755580     3.252036   \n",
       "min    ... -2400.000000     0.872000     0.000000   -11.920000    -3.044000   \n",
       "25%    ...   -18.803500    11.420500     0.030000    -0.126000     9.240000   \n",
       "50%    ...    -5.822500    13.695500     0.080000    -0.080000    11.737000   \n",
       "75%    ...    -0.834750    15.125500     0.126000    -0.030000    12.961750   \n",
       "max    ...    -0.000350    44.610000     2.820000    -0.001000    33.110000   \n",
       "\n",
       "       sy_kmagerr1  sy_kmagerr2   sy_gaiamag  sy_gaiamagerr1  sy_gaiamagerr2  \n",
       "count  4352.000000  4352.000000  4352.000000     4352.000000     4352.000000  \n",
       "mean      0.064802    -0.066220    12.512417        0.000677       -0.000677  \n",
       "std       0.424331     0.465661     2.974345        0.002036        0.002036  \n",
       "min       0.011000    -9.995000     2.926270        0.000122       -0.063232  \n",
       "25%       0.020000    -0.033000    10.958600        0.000258       -0.000537  \n",
       "50%       0.024000    -0.024000    13.428400        0.000362       -0.000362  \n",
       "75%       0.033000    -0.020000    14.814325        0.000537       -0.000258  \n",
       "max       9.995000    -0.011000    20.186100        0.063232       -0.000122  \n",
       "\n",
       "[8 rows x 63 columns]"
      ]
     },
     "execution_count": 4,
     "metadata": {},
     "output_type": "execute_result"
    }
   ],
   "source": [
    "df.describe()"
   ]
  },
  {
   "cell_type": "code",
   "execution_count": 5,
   "metadata": {},
   "outputs": [
    {
     "data": {
      "text/plain": [
       "sy_snum             int64\n",
       "sy_pnum             int64\n",
       "pl_orbper         float64\n",
       "pl_orbpererr1     float64\n",
       "pl_orbpererr2     float64\n",
       "                   ...   \n",
       "sy_kmagerr1       float64\n",
       "sy_kmagerr2       float64\n",
       "sy_gaiamag        float64\n",
       "sy_gaiamagerr1    float64\n",
       "sy_gaiamagerr2    float64\n",
       "Length: 63, dtype: object"
      ]
     },
     "execution_count": 5,
     "metadata": {},
     "output_type": "execute_result"
    }
   ],
   "source": [
    "df.dtypes"
   ]
  },
  {
   "cell_type": "code",
   "execution_count": 6,
   "metadata": {
    "scrolled": true
   },
   "outputs": [
    {
     "data": {
      "text/plain": [
       "sy_snum           0\n",
       "sy_pnum           0\n",
       "pl_orbper         0\n",
       "pl_orbpererr1     0\n",
       "pl_orbpererr2     0\n",
       "                 ..\n",
       "sy_kmagerr1       0\n",
       "sy_kmagerr2       0\n",
       "sy_gaiamag        0\n",
       "sy_gaiamagerr1    0\n",
       "sy_gaiamagerr2    0\n",
       "Length: 63, dtype: int64"
      ]
     },
     "execution_count": 6,
     "metadata": {},
     "output_type": "execute_result"
    }
   ],
   "source": [
    "df.isna().sum()"
   ]
  },
  {
   "cell_type": "markdown",
   "metadata": {},
   "source": [
    "## EDA"
   ]
  },
  {
   "cell_type": "code",
   "execution_count": 8,
   "metadata": {},
   "outputs": [
    {
     "data": {
      "image/png": "[encoded data removed]",
      "text/plain": [
       "<Figure size 432x288 with 1 Axes>"
      ]
     },
     "metadata": {
      "needs_background": "light"
     },
     "output_type": "display_data"
    }
   ],
   "source": [
    "plt.hist(df['sy_snum']);\n",
    "#distribution of stars per exoplanet's system"
   ]
  },
  {
   "cell_type": "code",
   "execution_count": 10,
   "metadata": {},
   "outputs": [
    {
     "data": {
      "image/png": "[encoded data removed]",
      "text/plain": [
       "<Figure size 432x288 with 1 Axes>"
      ]
     },
     "metadata": {
      "needs_background": "light"
     },
     "output_type": "display_data"
    }
   ],
   "source": [
    "plt.hist(df['sy_pnum']);\n",
    "#distribution of planets in each system.\n",
    "#A clear poisson distribution:  every exoplanet here has a system with at least one planet,\n",
    "#which is a given that the exoplanet itself is counted in that."
   ]
  },
  {
   "cell_type": "code",
   "execution_count": 28,
   "metadata": {},
   "outputs": [
    {
     "data": {
      "image/png": "[encoded data removed]",
      "text/plain": [
       "<Figure size 1080x1080 with 1 Axes>"
      ]
     },
     "metadata": {
      "needs_background": "light"
     },
     "output_type": "display_data"
    }
   ],
   "source": [
    "plt.figure(figsize = (15,15))\n",
    "plt.boxplot(df['pl_orbper']);\n",
    "#dang!  that maximum is a massive outlier.\n",
    "#this is a measure of the length (in earth days) of an orbit of an exoplanet\n",
    "#maybe we drop that planet out"
   ]
  },
  {
   "cell_type": "code",
   "execution_count": 23,
   "metadata": {},
   "outputs": [
    {
     "data": {
      "text/plain": [
       "7300000.0"
      ]
     },
     "execution_count": 23,
     "metadata": {},
     "output_type": "execute_result"
    }
   ],
   "source": [
    "df['pl_orbper'].max()"
   ]
  },
  {
   "cell_type": "code",
   "execution_count": 31,
   "metadata": {},
   "outputs": [
    {
     "data": {
      "image/png": "[encoded data removed]",
      "text/plain": [
       "<Figure size 432x288 with 1 Axes>"
      ]
     },
     "metadata": {
      "needs_background": "light"
     },
     "output_type": "display_data"
    }
   ],
   "source": [
    "plt.hist(df['sy_dist']);\n",
    "#distance from earth to the exoplanet's system, in parsecs"
   ]
  },
  {
   "cell_type": "code",
   "execution_count": 37,
   "metadata": {},
   "outputs": [],
   "source": [
    "# this dataset has features in many different categories:  data about the system, data about the star, \n",
    "#and data about the planet itself.  I'm curious to see how clustering goes if I include the whole dataset,\n",
    "#and how it operates if I only include one or some categories."
   ]
  },
  {
   "cell_type": "code",
   "execution_count": 38,
   "metadata": {},
   "outputs": [
    {
     "data": {
      "text/plain": [
       "Index(['sy_snum', 'sy_pnum', 'pl_orbper', 'pl_orbpererr1', 'pl_orbpererr2',\n",
       "       'pl_orbperlim', 'pl_orbsmax', 'pl_orbsmaxlim', 'pl_rade', 'pl_radeerr1',\n",
       "       'pl_radeerr2', 'pl_radelim', 'pl_radj', 'pl_radjerr1', 'pl_radjerr2',\n",
       "       'pl_radjlim', 'pl_bmasse', 'pl_bmasselim', 'pl_bmassj', 'pl_bmassjlim',\n",
       "       'pl_orbeccen', 'pl_orbeccenlim', 'pl_insol', 'pl_insolerr1',\n",
       "       'pl_insolerr2', 'pl_insollim', 'pl_eqt', 'pl_eqtlim', 'ttv_flag',\n",
       "       'st_teff', 'st_tefferr1', 'st_tefferr2', 'st_tefflim', 'st_rad',\n",
       "       'st_raderr1', 'st_raderr2', 'st_radlim', 'st_mass', 'st_masserr1',\n",
       "       'st_masserr2', 'st_masslim', 'st_met', 'st_meterr1', 'st_meterr2',\n",
       "       'st_metlim', 'st_logg', 'st_loggerr1', 'st_loggerr2', 'st_logglim',\n",
       "       'ra', 'dec', 'sy_dist', 'sy_disterr1', 'sy_disterr2', 'sy_vmag',\n",
       "       'sy_vmagerr1', 'sy_vmagerr2', 'sy_kmag', 'sy_kmagerr1', 'sy_kmagerr2',\n",
       "       'sy_gaiamag', 'sy_gaiamagerr1', 'sy_gaiamagerr2'],\n",
       "      dtype='object')"
      ]
     },
     "execution_count": 38,
     "metadata": {},
     "output_type": "execute_result"
    }
   ],
   "source": [
    "df.columns"
   ]
  },
  {
   "cell_type": "code",
   "execution_count": 44,
   "metadata": {},
   "outputs": [],
   "source": [
    "def cat_skinner(cat):\n",
    "    skinned_cat = []\n",
    "    for column in df.columns:\n",
    "        if column.__contains__(cat) == True:\n",
    "            skinned_cat.append(column)\n",
    "    return skinned_cat"
   ]
  },
  {
   "cell_type": "code",
   "execution_count": 50,
   "metadata": {},
   "outputs": [],
   "source": [
    "pl_df = df[cat_skinner('pl_')]\n",
    "pl_df.to_csv('planetary_only_data.csv')\n",
    "sy_df = df[cat_skinner('sy_')]\n",
    "sy_df.to_csv('system_only_data.csv')\n",
    "st_df = df[cat_skinner('st_')]\n",
    "st_df.to_csv('stellar_only_data.csv')"
   ]
  }
 ],
 "metadata": {
  "kernelspec": {
   "display_name": "Python 3",
   "language": "python",
   "name": "python3"
  },
  "language_info": {
   "codemirror_mode": {
    "name": "ipython",
    "version": 3
   },
   "file_extension": ".py",
   "mimetype": "text/x-python",
   "name": "python",
   "nbconvert_exporter": "python",
   "pygments_lexer": "ipython3",
   "version": "3.8.5"
  }
 },
 "nbformat": 4,
 "nbformat_minor": 4
}
