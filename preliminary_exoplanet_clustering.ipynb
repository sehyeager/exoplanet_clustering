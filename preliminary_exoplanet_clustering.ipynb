{
 "cells": [
  {
   "cell_type": "code",
   "execution_count": 19,
   "metadata": {},
   "outputs": [],
   "source": [
    "import pandas as pd\n",
    "import matplotlib.pyplot as plt\n",
    "import seaborn as sns\n",
    "from sklearn.preprocessing import StandardScaler\n",
    "from sklearn.metrics import silhouette_score\n",
    "from sklearn.cluster import KMeans, k_means"
   ]
  },
  {
   "cell_type": "code",
   "execution_count": 20,
   "metadata": {},
   "outputs": [],
   "source": [
    "#had to remove some comment rows from the top, hence the header parameter\n",
    "df = pd.read_csv('./datasets/exo_planets_filtered.csv', engine = 'python',header =  80)"
   ]
  },
  {
   "cell_type": "code",
   "execution_count": 21,
   "metadata": {},
   "outputs": [
    {
     "data": {
      "text/html": [
       "<div>\n",
       "<style scoped>\n",
       "    .dataframe tbody tr th:only-of-type {\n",
       "        vertical-align: middle;\n",
       "    }\n",
       "\n",
       "    .dataframe tbody tr th {\n",
       "        vertical-align: top;\n",
       "    }\n",
       "\n",
       "    .dataframe thead th {\n",
       "        text-align: right;\n",
       "    }\n",
       "</style>\n",
       "<table border=\"1\" class=\"dataframe\">\n",
       "  <thead>\n",
       "    <tr style=\"text-align: right;\">\n",
       "      <th></th>\n",
       "      <th>loc_rowid</th>\n",
       "      <th>sy_snum</th>\n",
       "      <th>sy_pnum</th>\n",
       "      <th>pl_orbper</th>\n",
       "      <th>pl_orbpererr1</th>\n",
       "      <th>pl_orbpererr2</th>\n",
       "      <th>pl_orbperlim</th>\n",
       "      <th>pl_orbsmax</th>\n",
       "      <th>pl_orbsmaxerr1</th>\n",
       "      <th>pl_orbsmaxerr2</th>\n",
       "      <th>...</th>\n",
       "      <th>sy_disterr2</th>\n",
       "      <th>sy_vmag</th>\n",
       "      <th>sy_vmagerr1</th>\n",
       "      <th>sy_vmagerr2</th>\n",
       "      <th>sy_kmag</th>\n",
       "      <th>sy_kmagerr1</th>\n",
       "      <th>sy_kmagerr2</th>\n",
       "      <th>sy_gaiamag</th>\n",
       "      <th>sy_gaiamagerr1</th>\n",
       "      <th>sy_gaiamagerr2</th>\n",
       "    </tr>\n",
       "  </thead>\n",
       "  <tbody>\n",
       "    <tr>\n",
       "      <th>0</th>\n",
       "      <td>1</td>\n",
       "      <td>2</td>\n",
       "      <td>1</td>\n",
       "      <td>326.030000</td>\n",
       "      <td>0.320000</td>\n",
       "      <td>-0.320000</td>\n",
       "      <td>0.0</td>\n",
       "      <td>1.29000</td>\n",
       "      <td>0.05000</td>\n",
       "      <td>-0.0500</td>\n",
       "      <td>...</td>\n",
       "      <td>-1.9238</td>\n",
       "      <td>4.72307</td>\n",
       "      <td>0.023</td>\n",
       "      <td>-0.023</td>\n",
       "      <td>2.282</td>\n",
       "      <td>0.346</td>\n",
       "      <td>-0.346</td>\n",
       "      <td>4.44038</td>\n",
       "      <td>0.003848</td>\n",
       "      <td>-0.003848</td>\n",
       "    </tr>\n",
       "    <tr>\n",
       "      <th>1</th>\n",
       "      <td>2</td>\n",
       "      <td>1</td>\n",
       "      <td>1</td>\n",
       "      <td>516.219970</td>\n",
       "      <td>3.200000</td>\n",
       "      <td>-3.200000</td>\n",
       "      <td>0.0</td>\n",
       "      <td>1.53000</td>\n",
       "      <td>0.07000</td>\n",
       "      <td>-0.0700</td>\n",
       "      <td>...</td>\n",
       "      <td>-1.9765</td>\n",
       "      <td>5.01300</td>\n",
       "      <td>0.005</td>\n",
       "      <td>-0.005</td>\n",
       "      <td>1.939</td>\n",
       "      <td>0.270</td>\n",
       "      <td>-0.270</td>\n",
       "      <td>4.56216</td>\n",
       "      <td>0.003903</td>\n",
       "      <td>-0.003903</td>\n",
       "    </tr>\n",
       "    <tr>\n",
       "      <th>2</th>\n",
       "      <td>3</td>\n",
       "      <td>1</td>\n",
       "      <td>1</td>\n",
       "      <td>185.840000</td>\n",
       "      <td>0.230000</td>\n",
       "      <td>-0.230000</td>\n",
       "      <td>0.0</td>\n",
       "      <td>0.83000</td>\n",
       "      <td>NaN</td>\n",
       "      <td>NaN</td>\n",
       "      <td>...</td>\n",
       "      <td>-0.7140</td>\n",
       "      <td>5.23133</td>\n",
       "      <td>0.023</td>\n",
       "      <td>-0.023</td>\n",
       "      <td>2.331</td>\n",
       "      <td>0.240</td>\n",
       "      <td>-0.240</td>\n",
       "      <td>4.91781</td>\n",
       "      <td>0.002826</td>\n",
       "      <td>-0.002826</td>\n",
       "    </tr>\n",
       "    <tr>\n",
       "      <th>3</th>\n",
       "      <td>4</td>\n",
       "      <td>1</td>\n",
       "      <td>1</td>\n",
       "      <td>1773.400020</td>\n",
       "      <td>2.500000</td>\n",
       "      <td>-2.500000</td>\n",
       "      <td>0.0</td>\n",
       "      <td>2.93000</td>\n",
       "      <td>0.08000</td>\n",
       "      <td>-0.0800</td>\n",
       "      <td>...</td>\n",
       "      <td>-0.0073</td>\n",
       "      <td>6.61935</td>\n",
       "      <td>0.023</td>\n",
       "      <td>-0.023</td>\n",
       "      <td>4.714</td>\n",
       "      <td>0.016</td>\n",
       "      <td>-0.016</td>\n",
       "      <td>6.38300</td>\n",
       "      <td>0.000351</td>\n",
       "      <td>-0.000351</td>\n",
       "    </tr>\n",
       "    <tr>\n",
       "      <th>4</th>\n",
       "      <td>5</td>\n",
       "      <td>3</td>\n",
       "      <td>1</td>\n",
       "      <td>798.500000</td>\n",
       "      <td>1.000000</td>\n",
       "      <td>-1.000000</td>\n",
       "      <td>0.0</td>\n",
       "      <td>1.66000</td>\n",
       "      <td>0.03000</td>\n",
       "      <td>-0.0300</td>\n",
       "      <td>...</td>\n",
       "      <td>-0.0111</td>\n",
       "      <td>6.21500</td>\n",
       "      <td>0.016</td>\n",
       "      <td>-0.016</td>\n",
       "      <td>4.651</td>\n",
       "      <td>0.016</td>\n",
       "      <td>-0.016</td>\n",
       "      <td>6.06428</td>\n",
       "      <td>0.000603</td>\n",
       "      <td>-0.000603</td>\n",
       "    </tr>\n",
       "    <tr>\n",
       "      <th>...</th>\n",
       "      <td>...</td>\n",
       "      <td>...</td>\n",
       "      <td>...</td>\n",
       "      <td>...</td>\n",
       "      <td>...</td>\n",
       "      <td>...</td>\n",
       "      <td>...</td>\n",
       "      <td>...</td>\n",
       "      <td>...</td>\n",
       "      <td>...</td>\n",
       "      <td>...</td>\n",
       "      <td>...</td>\n",
       "      <td>...</td>\n",
       "      <td>...</td>\n",
       "      <td>...</td>\n",
       "      <td>...</td>\n",
       "      <td>...</td>\n",
       "      <td>...</td>\n",
       "      <td>...</td>\n",
       "      <td>...</td>\n",
       "      <td>...</td>\n",
       "    </tr>\n",
       "    <tr>\n",
       "      <th>75</th>\n",
       "      <td>76</td>\n",
       "      <td>1</td>\n",
       "      <td>1</td>\n",
       "      <td>3.768100</td>\n",
       "      <td>0.000300</td>\n",
       "      <td>-0.000300</td>\n",
       "      <td>0.0</td>\n",
       "      <td>0.04610</td>\n",
       "      <td>0.00080</td>\n",
       "      <td>-0.0008</td>\n",
       "      <td>...</td>\n",
       "      <td>-52.1900</td>\n",
       "      <td>16.29000</td>\n",
       "      <td>0.320</td>\n",
       "      <td>-0.320</td>\n",
       "      <td>12.472</td>\n",
       "      <td>0.054</td>\n",
       "      <td>-0.054</td>\n",
       "      <td>15.43680</td>\n",
       "      <td>0.000524</td>\n",
       "      <td>-0.000524</td>\n",
       "    </tr>\n",
       "    <tr>\n",
       "      <th>76</th>\n",
       "      <td>77</td>\n",
       "      <td>1</td>\n",
       "      <td>1</td>\n",
       "      <td>1.900069</td>\n",
       "      <td>0.000003</td>\n",
       "      <td>-0.000003</td>\n",
       "      <td>0.0</td>\n",
       "      <td>0.02950</td>\n",
       "      <td>0.00160</td>\n",
       "      <td>-0.0016</td>\n",
       "      <td>...</td>\n",
       "      <td>-25.7840</td>\n",
       "      <td>14.86800</td>\n",
       "      <td>0.172</td>\n",
       "      <td>-0.172</td>\n",
       "      <td>13.014</td>\n",
       "      <td>0.030</td>\n",
       "      <td>-0.030</td>\n",
       "      <td>14.80090</td>\n",
       "      <td>0.001211</td>\n",
       "      <td>-0.001211</td>\n",
       "    </tr>\n",
       "    <tr>\n",
       "      <th>77</th>\n",
       "      <td>78</td>\n",
       "      <td>1</td>\n",
       "      <td>1</td>\n",
       "      <td>3.897130</td>\n",
       "      <td>0.000020</td>\n",
       "      <td>-0.000020</td>\n",
       "      <td>0.0</td>\n",
       "      <td>0.05180</td>\n",
       "      <td>0.00080</td>\n",
       "      <td>-0.0008</td>\n",
       "      <td>...</td>\n",
       "      <td>-25.0710</td>\n",
       "      <td>14.13500</td>\n",
       "      <td>0.149</td>\n",
       "      <td>-0.149</td>\n",
       "      <td>11.837</td>\n",
       "      <td>0.024</td>\n",
       "      <td>-0.024</td>\n",
       "      <td>13.78310</td>\n",
       "      <td>0.000558</td>\n",
       "      <td>-0.000558</td>\n",
       "    </tr>\n",
       "    <tr>\n",
       "      <th>78</th>\n",
       "      <td>79</td>\n",
       "      <td>2</td>\n",
       "      <td>1</td>\n",
       "      <td>1.742994</td>\n",
       "      <td>0.000001</td>\n",
       "      <td>-0.000001</td>\n",
       "      <td>0.0</td>\n",
       "      <td>0.02798</td>\n",
       "      <td>0.00076</td>\n",
       "      <td>-0.0008</td>\n",
       "      <td>...</td>\n",
       "      <td>-2.4300</td>\n",
       "      <td>12.51600</td>\n",
       "      <td>0.092</td>\n",
       "      <td>-0.092</td>\n",
       "      <td>10.310</td>\n",
       "      <td>0.031</td>\n",
       "      <td>-0.031</td>\n",
       "      <td>12.24890</td>\n",
       "      <td>0.000911</td>\n",
       "      <td>-0.000911</td>\n",
       "    </tr>\n",
       "    <tr>\n",
       "      <th>79</th>\n",
       "      <td>80</td>\n",
       "      <td>1</td>\n",
       "      <td>2</td>\n",
       "      <td>9.242850</td>\n",
       "      <td>0.000300</td>\n",
       "      <td>-0.000300</td>\n",
       "      <td>0.0</td>\n",
       "      <td>0.09000</td>\n",
       "      <td>0.00200</td>\n",
       "      <td>-0.0020</td>\n",
       "      <td>...</td>\n",
       "      <td>-22.8830</td>\n",
       "      <td>14.63000</td>\n",
       "      <td>0.092</td>\n",
       "      <td>-0.092</td>\n",
       "      <td>12.513</td>\n",
       "      <td>0.029</td>\n",
       "      <td>-0.029</td>\n",
       "      <td>14.46860</td>\n",
       "      <td>0.000412</td>\n",
       "      <td>-0.000412</td>\n",
       "    </tr>\n",
       "  </tbody>\n",
       "</table>\n",
       "<p>80 rows × 77 columns</p>\n",
       "</div>"
      ],
      "text/plain": [
       "    loc_rowid  sy_snum  sy_pnum    pl_orbper  pl_orbpererr1  pl_orbpererr2  \\\n",
       "0           1        2        1   326.030000       0.320000      -0.320000   \n",
       "1           2        1        1   516.219970       3.200000      -3.200000   \n",
       "2           3        1        1   185.840000       0.230000      -0.230000   \n",
       "3           4        1        1  1773.400020       2.500000      -2.500000   \n",
       "4           5        3        1   798.500000       1.000000      -1.000000   \n",
       "..        ...      ...      ...          ...            ...            ...   \n",
       "75         76        1        1     3.768100       0.000300      -0.000300   \n",
       "76         77        1        1     1.900069       0.000003      -0.000003   \n",
       "77         78        1        1     3.897130       0.000020      -0.000020   \n",
       "78         79        2        1     1.742994       0.000001      -0.000001   \n",
       "79         80        1        2     9.242850       0.000300      -0.000300   \n",
       "\n",
       "    pl_orbperlim  pl_orbsmax  pl_orbsmaxerr1  pl_orbsmaxerr2  ...  \\\n",
       "0            0.0     1.29000         0.05000         -0.0500  ...   \n",
       "1            0.0     1.53000         0.07000         -0.0700  ...   \n",
       "2            0.0     0.83000             NaN             NaN  ...   \n",
       "3            0.0     2.93000         0.08000         -0.0800  ...   \n",
       "4            0.0     1.66000         0.03000         -0.0300  ...   \n",
       "..           ...         ...             ...             ...  ...   \n",
       "75           0.0     0.04610         0.00080         -0.0008  ...   \n",
       "76           0.0     0.02950         0.00160         -0.0016  ...   \n",
       "77           0.0     0.05180         0.00080         -0.0008  ...   \n",
       "78           0.0     0.02798         0.00076         -0.0008  ...   \n",
       "79           0.0     0.09000         0.00200         -0.0020  ...   \n",
       "\n",
       "    sy_disterr2   sy_vmag  sy_vmagerr1  sy_vmagerr2  sy_kmag  sy_kmagerr1  \\\n",
       "0       -1.9238   4.72307        0.023       -0.023    2.282        0.346   \n",
       "1       -1.9765   5.01300        0.005       -0.005    1.939        0.270   \n",
       "2       -0.7140   5.23133        0.023       -0.023    2.331        0.240   \n",
       "3       -0.0073   6.61935        0.023       -0.023    4.714        0.016   \n",
       "4       -0.0111   6.21500        0.016       -0.016    4.651        0.016   \n",
       "..          ...       ...          ...          ...      ...          ...   \n",
       "75     -52.1900  16.29000        0.320       -0.320   12.472        0.054   \n",
       "76     -25.7840  14.86800        0.172       -0.172   13.014        0.030   \n",
       "77     -25.0710  14.13500        0.149       -0.149   11.837        0.024   \n",
       "78      -2.4300  12.51600        0.092       -0.092   10.310        0.031   \n",
       "79     -22.8830  14.63000        0.092       -0.092   12.513        0.029   \n",
       "\n",
       "    sy_kmagerr2  sy_gaiamag  sy_gaiamagerr1  sy_gaiamagerr2  \n",
       "0        -0.346     4.44038        0.003848       -0.003848  \n",
       "1        -0.270     4.56216        0.003903       -0.003903  \n",
       "2        -0.240     4.91781        0.002826       -0.002826  \n",
       "3        -0.016     6.38300        0.000351       -0.000351  \n",
       "4        -0.016     6.06428        0.000603       -0.000603  \n",
       "..          ...         ...             ...             ...  \n",
       "75       -0.054    15.43680        0.000524       -0.000524  \n",
       "76       -0.030    14.80090        0.001211       -0.001211  \n",
       "77       -0.024    13.78310        0.000558       -0.000558  \n",
       "78       -0.031    12.24890        0.000911       -0.000911  \n",
       "79       -0.029    14.46860        0.000412       -0.000412  \n",
       "\n",
       "[80 rows x 77 columns]"
      ]
     },
     "execution_count": 21,
     "metadata": {},
     "output_type": "execute_result"
    }
   ],
   "source": [
    "df.head(80)"
   ]
  },
  {
   "cell_type": "code",
   "execution_count": 22,
   "metadata": {},
   "outputs": [],
   "source": [
    "df = df.drop(columns = 'pl_bmassprov')"
   ]
  },
  {
   "cell_type": "code",
   "execution_count": 23,
   "metadata": {},
   "outputs": [],
   "source": [
    "df = df.drop(columns = 'loc_rowid')"
   ]
  },
  {
   "cell_type": "code",
   "execution_count": 24,
   "metadata": {},
   "outputs": [],
   "source": [
    "df = df.drop(columns = ['rastr','decstr'])"
   ]
  },
  {
   "cell_type": "code",
   "execution_count": 25,
   "metadata": {},
   "outputs": [
    {
     "data": {
      "text/plain": [
       "(4352, 73)"
      ]
     },
     "execution_count": 25,
     "metadata": {},
     "output_type": "execute_result"
    }
   ],
   "source": [
    "df.shape"
   ]
  },
  {
   "cell_type": "code",
   "execution_count": 26,
   "metadata": {},
   "outputs": [],
   "source": [
    "df.to_csv('./exoplanet_data.csv', index = False)"
   ]
  },
  {
   "cell_type": "code",
   "execution_count": 27,
   "metadata": {},
   "outputs": [
    {
     "data": {
      "text/plain": [
       "(4352, 73)"
      ]
     },
     "execution_count": 27,
     "metadata": {},
     "output_type": "execute_result"
    }
   ],
   "source": [
    "df.shape"
   ]
  },
  {
   "cell_type": "code",
   "execution_count": 28,
   "metadata": {},
   "outputs": [
    {
     "data": {
      "text/plain": [
       "sy_snum             int64\n",
       "sy_pnum             int64\n",
       "pl_orbper         float64\n",
       "pl_orbpererr1     float64\n",
       "pl_orbpererr2     float64\n",
       "                   ...   \n",
       "sy_kmagerr1       float64\n",
       "sy_kmagerr2       float64\n",
       "sy_gaiamag        float64\n",
       "sy_gaiamagerr1    float64\n",
       "sy_gaiamagerr2    float64\n",
       "Length: 73, dtype: object"
      ]
     },
     "execution_count": 28,
     "metadata": {},
     "output_type": "execute_result"
    }
   ],
   "source": [
    "df.dtypes"
   ]
  },
  {
   "cell_type": "code",
   "execution_count": 29,
   "metadata": {},
   "outputs": [
    {
     "data": {
      "text/plain": [
       "sy_snum             0\n",
       "sy_pnum             0\n",
       "pl_orbper         140\n",
       "pl_orbpererr1     319\n",
       "pl_orbpererr2     319\n",
       "                 ... \n",
       "sy_kmagerr1       134\n",
       "sy_kmagerr2       148\n",
       "sy_gaiamag        153\n",
       "sy_gaiamagerr1    158\n",
       "sy_gaiamagerr2    158\n",
       "Length: 73, dtype: int64"
      ]
     },
     "execution_count": 29,
     "metadata": {},
     "output_type": "execute_result"
    }
   ],
   "source": [
    "df.isna().sum()"
   ]
  },
  {
   "cell_type": "code",
   "execution_count": 30,
   "metadata": {},
   "outputs": [],
   "source": [
    "baseline_data = df.dropna()"
   ]
  },
  {
   "cell_type": "code",
   "execution_count": null,
   "metadata": {},
   "outputs": [],
   "source": []
  },
  {
   "cell_type": "code",
   "execution_count": 31,
   "metadata": {},
   "outputs": [],
   "source": [
    "ss = StandardScaler()\n",
    "X_scaled = ss.fit_transform(baseline_data)"
   ]
  },
  {
   "cell_type": "code",
   "execution_count": 32,
   "metadata": {},
   "outputs": [
    {
     "data": {
      "text/plain": [
       "KMeans(n_clusters=3, random_state=0)"
      ]
     },
     "execution_count": 32,
     "metadata": {},
     "output_type": "execute_result"
    }
   ],
   "source": [
    "\n",
    "model = KMeans(n_clusters=3, random_state=0)\n",
    "model.fit(X_scaled)"
   ]
  },
  {
   "cell_type": "code",
   "execution_count": null,
   "metadata": {},
   "outputs": [],
   "source": []
  },
  {
   "cell_type": "code",
   "execution_count": 33,
   "metadata": {},
   "outputs": [
    {
     "data": {
      "text/plain": [
       "0.2789721322793714"
      ]
     },
     "execution_count": 33,
     "metadata": {},
     "output_type": "execute_result"
    }
   ],
   "source": [
    "silhouette_score(X_scaled, model.labels_)"
   ]
  },
  {
   "cell_type": "code",
   "execution_count": 34,
   "metadata": {},
   "outputs": [],
   "source": [
    "df.to_csv('./datasets/exoplanet_data.csv', index = False)"
   ]
  }
 ],
 "metadata": {
  "kernelspec": {
   "display_name": "Python 3",
   "language": "python",
   "name": "python3"
  },
  "language_info": {
   "codemirror_mode": {
    "name": "ipython",
    "version": 3
   },
   "file_extension": ".py",
   "mimetype": "text/x-python",
   "name": "python",
   "nbconvert_exporter": "python",
   "pygments_lexer": "ipython3",
   "version": "3.8.5"
  }
 },
 "nbformat": 4,
 "nbformat_minor": 4
}
