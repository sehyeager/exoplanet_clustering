{
 "cells": [
  {
   "cell_type": "code",
   "execution_count": 2,
   "metadata": {},
   "outputs": [],
   "source": [
    "from sklearn.cluster import KMeans, k_means, Birch\n",
    "from sklearn.metrics import silhouette_score\n",
    "from sklearn.preprocessing import StandardScaler\n",
    "from sklearn.model_selection import GridSearchCV\n",
    "import numpy as np\n",
    "import pandas as pd"
   ]
  },
  {
   "cell_type": "code",
   "execution_count": 1,
   "metadata": {},
   "outputs": [
    {
     "ename": "NameError",
     "evalue": "name 'pd' is not defined",
     "output_type": "error",
     "traceback": [
      "\u001b[0;31m---------------------------------------------------------------------------\u001b[0m",
      "\u001b[0;31mNameError\u001b[0m                                 Traceback (most recent call last)",
      "\u001b[0;32m<ipython-input-1-8ce322e5548b>\u001b[0m in \u001b[0;36m<module>\u001b[0;34m\u001b[0m\n\u001b[0;32m----> 1\u001b[0;31m \u001b[0mdf\u001b[0m \u001b[0;34m=\u001b[0m \u001b[0mpd\u001b[0m\u001b[0;34m.\u001b[0m\u001b[0mread_csv\u001b[0m\u001b[0;34m(\u001b[0m\u001b[0;34m'./datasets/backfill_mean_data.csv.csv'\u001b[0m\u001b[0;34m)\u001b[0m\u001b[0;34m\u001b[0m\u001b[0;34m\u001b[0m\u001b[0m\n\u001b[0m\u001b[1;32m      2\u001b[0m \u001b[0mdf\u001b[0m \u001b[0;34m=\u001b[0m \u001b[0mdf\u001b[0m\u001b[0;34m.\u001b[0m\u001b[0mdrop\u001b[0m\u001b[0;34m(\u001b[0m\u001b[0mcolumns\u001b[0m \u001b[0;34m=\u001b[0m \u001b[0;34m'Unnamed: 0'\u001b[0m\u001b[0;34m)\u001b[0m\u001b[0;34m\u001b[0m\u001b[0;34m\u001b[0m\u001b[0m\n",
      "\u001b[0;31mNameError\u001b[0m: name 'pd' is not defined"
     ]
    }
   ],
   "source": [
    "df = pd.read_csv('./datasets/backfill_mean_data.csv.csv')\n",
    "df = df.drop(columns = 'Unnamed: 0')"
   ]
  },
  {
   "cell_type": "code",
   "execution_count": 62,
   "metadata": {},
   "outputs": [],
   "source": [
    "ss = StandardScaler()\n",
    "df_scaled = ss.fit_transform(df)"
   ]
  },
  {
   "cell_type": "code",
   "execution_count": 63,
   "metadata": {},
   "outputs": [],
   "source": [
    "model = KMeans(n_clusters= 4, random_state= 42)"
   ]
  },
  {
   "cell_type": "code",
   "execution_count": 64,
   "metadata": {},
   "outputs": [
    {
     "data": {
      "text/plain": [
       "KMeans(n_clusters=4, random_state=42)"
      ]
     },
     "execution_count": 64,
     "metadata": {},
     "output_type": "execute_result"
    }
   ],
   "source": [
    "model.fit(df_scaled)"
   ]
  },
  {
   "cell_type": "code",
   "execution_count": 65,
   "metadata": {},
   "outputs": [],
   "source": [
    "labels = model.labels_"
   ]
  },
  {
   "cell_type": "code",
   "execution_count": 66,
   "metadata": {},
   "outputs": [
    {
     "name": "stdout",
     "output_type": "stream",
     "text": [
      "Predicted clusters to points:  [3 3 3 ... 3 3 3]\n",
      "Location of centroids: \n",
      "[[-1.79507378e-02 -1.61072901e-02  1.56859155e-02  3.60161896e-03\n",
      "  -5.76335969e-02  2.14422507e-02 -5.91206769e-01 -1.49728720e-01\n",
      "   1.76741413e-01 -3.65882241e-03 -5.91240091e-01 -1.48572166e-01\n",
      "   1.74724975e-01 -3.65882241e-03 -1.05503137e-01  4.58251057e-02\n",
      "  -1.05518914e-01  4.58251057e-02 -2.95751010e-01 -1.12652170e-01\n",
      "  -8.22132909e-02 -7.41439327e-02  8.00493264e-02  0.00000000e+00\n",
      "  -2.41202432e-01 -2.14422507e-02]\n",
      " [ 6.59347613e+01  6.59578641e+01 -6.59606100e+01  1.23777924e-02\n",
      "   2.60549065e+00  2.14422507e-02  1.22977493e+00  9.27636286e-01\n",
      "  -1.32873773e+00  8.75208571e-03  1.23487222e+00  9.29048573e-01\n",
      "  -1.33176251e+00  8.75208571e-03  9.55014522e-01 -1.24933286e-01\n",
      "   9.54825999e-01 -1.24933286e-01  7.95360353e-01 -1.82221108e-01\n",
      "  -2.27939418e-01 -1.55273755e-01  1.52790007e-01  0.00000000e+00\n",
      "   2.59899457e+00 -2.14422507e-02]\n",
      " [-1.70044473e-02 -1.61616930e-02  1.56423940e-02  1.23777924e-02\n",
      "  -5.59164243e-02  2.14422507e-02  1.78866736e+00  9.22685973e-02\n",
      "  -2.38466706e-01  8.75208571e-03  1.78819199e+00  9.37450506e-02\n",
      "  -2.40974315e-01  8.75208571e-03  2.01035934e-03 -1.24933286e-01\n",
      "   1.97693548e-03 -1.24933286e-01 -1.07904094e-01 -1.82221108e-01\n",
      "   2.00286370e+01  2.02962733e+01 -2.03119451e+01  0.00000000e+00\n",
      "   2.57542926e+00 -2.14422507e-02]\n",
      " [-8.40495402e-03 -1.28691501e-02  1.38896360e-02 -8.76355473e-03\n",
      "   1.37142347e-01 -5.18047470e-02  1.41198937e+00  3.59381207e-01\n",
      "  -4.23220506e-01  8.75208571e-03  1.41206863e+00  3.56584747e-01\n",
      "  -4.18344890e-01  8.75208571e-03  2.53389349e-01 -1.09507732e-01\n",
      "   2.53427712e-01 -1.09507732e-01  7.12502137e-01  2.72660517e-01\n",
      "   7.24579539e-02  5.12816456e-02 -6.54070737e-02  0.00000000e+00\n",
      "   5.62831896e-01  5.18047470e-02]]\n"
     ]
    }
   ],
   "source": [
    "labels = model.labels_\n",
    "centroids = model.cluster_centers_"
   ]
  },
  {
   "cell_type": "code",
   "execution_count": 67,
   "metadata": {},
   "outputs": [
    {
     "data": {
      "text/html": [
       "<div>\n",
       "<style scoped>\n",
       "    .dataframe tbody tr th:only-of-type {\n",
       "        vertical-align: middle;\n",
       "    }\n",
       "\n",
       "    .dataframe tbody tr th {\n",
       "        vertical-align: top;\n",
       "    }\n",
       "\n",
       "    .dataframe thead th {\n",
       "        text-align: right;\n",
       "    }\n",
       "</style>\n",
       "<table border=\"1\" class=\"dataframe\">\n",
       "  <thead>\n",
       "    <tr style=\"text-align: right;\">\n",
       "      <th></th>\n",
       "      <th>pl_orbper</th>\n",
       "      <th>pl_orbpererr1</th>\n",
       "      <th>pl_orbpererr2</th>\n",
       "      <th>pl_orbperlim</th>\n",
       "      <th>pl_orbsmax</th>\n",
       "      <th>pl_orbsmaxlim</th>\n",
       "      <th>pl_rade</th>\n",
       "      <th>pl_radeerr1</th>\n",
       "      <th>pl_radeerr2</th>\n",
       "      <th>pl_radelim</th>\n",
       "      <th>...</th>\n",
       "      <th>pl_bmassjlim</th>\n",
       "      <th>pl_orbeccen</th>\n",
       "      <th>pl_orbeccenlim</th>\n",
       "      <th>pl_insol</th>\n",
       "      <th>pl_insolerr1</th>\n",
       "      <th>pl_insolerr2</th>\n",
       "      <th>pl_insollim</th>\n",
       "      <th>pl_eqt</th>\n",
       "      <th>pl_eqtlim</th>\n",
       "      <th>labels</th>\n",
       "    </tr>\n",
       "  </thead>\n",
       "  <tbody>\n",
       "    <tr>\n",
       "      <th>0</th>\n",
       "      <td>326.03000</td>\n",
       "      <td>0.32</td>\n",
       "      <td>-0.32</td>\n",
       "      <td>0.0</td>\n",
       "      <td>1.29</td>\n",
       "      <td>0.0</td>\n",
       "      <td>12.1</td>\n",
       "      <td>0.336</td>\n",
       "      <td>-0.336</td>\n",
       "      <td>0.0</td>\n",
       "      <td>...</td>\n",
       "      <td>0.0</td>\n",
       "      <td>0.231</td>\n",
       "      <td>0.0</td>\n",
       "      <td>99.27</td>\n",
       "      <td>6.24</td>\n",
       "      <td>-5.76</td>\n",
       "      <td>0.0</td>\n",
       "      <td>1700.0</td>\n",
       "      <td>0.0</td>\n",
       "      <td>3</td>\n",
       "    </tr>\n",
       "    <tr>\n",
       "      <th>1</th>\n",
       "      <td>516.21997</td>\n",
       "      <td>3.20</td>\n",
       "      <td>-3.20</td>\n",
       "      <td>0.0</td>\n",
       "      <td>1.53</td>\n",
       "      <td>0.0</td>\n",
       "      <td>12.3</td>\n",
       "      <td>0.336</td>\n",
       "      <td>-0.336</td>\n",
       "      <td>0.0</td>\n",
       "      <td>...</td>\n",
       "      <td>0.0</td>\n",
       "      <td>0.080</td>\n",
       "      <td>0.0</td>\n",
       "      <td>99.27</td>\n",
       "      <td>6.24</td>\n",
       "      <td>-5.76</td>\n",
       "      <td>0.0</td>\n",
       "      <td>1700.0</td>\n",
       "      <td>0.0</td>\n",
       "      <td>3</td>\n",
       "    </tr>\n",
       "    <tr>\n",
       "      <th>2</th>\n",
       "      <td>185.84000</td>\n",
       "      <td>0.23</td>\n",
       "      <td>-0.23</td>\n",
       "      <td>0.0</td>\n",
       "      <td>0.83</td>\n",
       "      <td>0.0</td>\n",
       "      <td>12.9</td>\n",
       "      <td>0.336</td>\n",
       "      <td>-0.336</td>\n",
       "      <td>0.0</td>\n",
       "      <td>...</td>\n",
       "      <td>0.0</td>\n",
       "      <td>0.000</td>\n",
       "      <td>0.0</td>\n",
       "      <td>99.27</td>\n",
       "      <td>6.24</td>\n",
       "      <td>-5.76</td>\n",
       "      <td>0.0</td>\n",
       "      <td>1700.0</td>\n",
       "      <td>0.0</td>\n",
       "      <td>3</td>\n",
       "    </tr>\n",
       "    <tr>\n",
       "      <th>3</th>\n",
       "      <td>1773.40002</td>\n",
       "      <td>2.50</td>\n",
       "      <td>-2.50</td>\n",
       "      <td>0.0</td>\n",
       "      <td>2.93</td>\n",
       "      <td>0.0</td>\n",
       "      <td>12.9</td>\n",
       "      <td>0.336</td>\n",
       "      <td>-0.336</td>\n",
       "      <td>0.0</td>\n",
       "      <td>...</td>\n",
       "      <td>0.0</td>\n",
       "      <td>0.370</td>\n",
       "      <td>0.0</td>\n",
       "      <td>99.27</td>\n",
       "      <td>6.24</td>\n",
       "      <td>-5.76</td>\n",
       "      <td>0.0</td>\n",
       "      <td>1700.0</td>\n",
       "      <td>0.0</td>\n",
       "      <td>3</td>\n",
       "    </tr>\n",
       "    <tr>\n",
       "      <th>4</th>\n",
       "      <td>798.50000</td>\n",
       "      <td>1.00</td>\n",
       "      <td>-1.00</td>\n",
       "      <td>0.0</td>\n",
       "      <td>1.66</td>\n",
       "      <td>0.0</td>\n",
       "      <td>13.5</td>\n",
       "      <td>0.336</td>\n",
       "      <td>-0.336</td>\n",
       "      <td>0.0</td>\n",
       "      <td>...</td>\n",
       "      <td>0.0</td>\n",
       "      <td>0.680</td>\n",
       "      <td>0.0</td>\n",
       "      <td>99.27</td>\n",
       "      <td>6.24</td>\n",
       "      <td>-5.76</td>\n",
       "      <td>0.0</td>\n",
       "      <td>1700.0</td>\n",
       "      <td>0.0</td>\n",
       "      <td>3</td>\n",
       "    </tr>\n",
       "  </tbody>\n",
       "</table>\n",
       "<p>5 rows × 27 columns</p>\n",
       "</div>"
      ],
      "text/plain": [
       "    pl_orbper  pl_orbpererr1  pl_orbpererr2  pl_orbperlim  pl_orbsmax  \\\n",
       "0   326.03000           0.32          -0.32           0.0        1.29   \n",
       "1   516.21997           3.20          -3.20           0.0        1.53   \n",
       "2   185.84000           0.23          -0.23           0.0        0.83   \n",
       "3  1773.40002           2.50          -2.50           0.0        2.93   \n",
       "4   798.50000           1.00          -1.00           0.0        1.66   \n",
       "\n",
       "   pl_orbsmaxlim  pl_rade  pl_radeerr1  pl_radeerr2  pl_radelim  ...  \\\n",
       "0            0.0     12.1        0.336       -0.336         0.0  ...   \n",
       "1            0.0     12.3        0.336       -0.336         0.0  ...   \n",
       "2            0.0     12.9        0.336       -0.336         0.0  ...   \n",
       "3            0.0     12.9        0.336       -0.336         0.0  ...   \n",
       "4            0.0     13.5        0.336       -0.336         0.0  ...   \n",
       "\n",
       "   pl_bmassjlim  pl_orbeccen  pl_orbeccenlim  pl_insol  pl_insolerr1  \\\n",
       "0           0.0        0.231             0.0     99.27          6.24   \n",
       "1           0.0        0.080             0.0     99.27          6.24   \n",
       "2           0.0        0.000             0.0     99.27          6.24   \n",
       "3           0.0        0.370             0.0     99.27          6.24   \n",
       "4           0.0        0.680             0.0     99.27          6.24   \n",
       "\n",
       "   pl_insolerr2  pl_insollim  pl_eqt  pl_eqtlim  labels  \n",
       "0         -5.76          0.0  1700.0        0.0       3  \n",
       "1         -5.76          0.0  1700.0        0.0       3  \n",
       "2         -5.76          0.0  1700.0        0.0       3  \n",
       "3         -5.76          0.0  1700.0        0.0       3  \n",
       "4         -5.76          0.0  1700.0        0.0       3  \n",
       "\n",
       "[5 rows x 27 columns]"
      ]
     },
     "execution_count": 67,
     "metadata": {},
     "output_type": "execute_result"
    }
   ],
   "source": [
    "df['labels'] = labels\n",
    "df.head()"
   ]
  },
  {
   "cell_type": "code",
   "execution_count": 68,
   "metadata": {},
   "outputs": [
    {
     "data": {
      "text/plain": [
       "array([3, 0, 2, 1], dtype=int32)"
      ]
     },
     "execution_count": 68,
     "metadata": {},
     "output_type": "execute_result"
    }
   ],
   "source": [
    "df.labels.unique()"
   ]
  },
  {
   "cell_type": "code",
   "execution_count": 82,
   "metadata": {},
   "outputs": [
    {
     "data": {
      "text/plain": [
       "0.4317274576064746"
      ]
     },
     "execution_count": 82,
     "metadata": {},
     "output_type": "execute_result"
    }
   ],
   "source": [
    "score = silhouette_score(df_scaled, labels, metric='euclidean')\n",
    "score"
   ]
  },
  {
   "cell_type": "code",
   "execution_count": 74,
   "metadata": {},
   "outputs": [],
   "source": [
    "#trying a birch clustering model to see if our silhouette score can be improved\n",
    "birch_model = Birch(n_clusters = 4)"
   ]
  },
  {
   "cell_type": "code",
   "execution_count": 75,
   "metadata": {},
   "outputs": [
    {
     "data": {
      "text/plain": [
       "Birch(n_clusters=4)"
      ]
     },
     "execution_count": 75,
     "metadata": {},
     "output_type": "execute_result"
    }
   ],
   "source": [
    "birch_model.fit(df_scaled)"
   ]
  },
  {
   "cell_type": "code",
   "execution_count": 77,
   "metadata": {},
   "outputs": [],
   "source": [
    "df['birch_labels'] = birch_model.labels_"
   ]
  },
  {
   "cell_type": "code",
   "execution_count": 78,
   "metadata": {},
   "outputs": [
    {
     "data": {
      "text/plain": [
       "array([0, 2, 1, 3])"
      ]
     },
     "execution_count": 78,
     "metadata": {},
     "output_type": "execute_result"
    }
   ],
   "source": [
    "df['birch_labels'].unique()"
   ]
  },
  {
   "cell_type": "code",
   "execution_count": 85,
   "metadata": {},
   "outputs": [
    {
     "data": {
      "text/plain": [
       "0.8985076623910687"
      ]
     },
     "execution_count": 85,
     "metadata": {},
     "output_type": "execute_result"
    }
   ],
   "source": [
    "birch_score = silhouette_score(df_scaled, birch_model.labels_, metric='euclidean')\n",
    "birch_score\n",
    "#our score is MUCH improved.  Love to see that.  We'll use these birch labels to build our classifier."
   ]
  }
 ],
 "metadata": {
  "kernelspec": {
   "display_name": "Python 3",
   "language": "python",
   "name": "python3"
  },
  "language_info": {
   "codemirror_mode": {
    "name": "ipython",
    "version": 3
   },
   "file_extension": ".py",
   "mimetype": "text/x-python",
   "name": "python",
   "nbconvert_exporter": "python",
   "pygments_lexer": "ipython3",
   "version": "3.8.5"
  }
 },
 "nbformat": 4,
 "nbformat_minor": 4
}
